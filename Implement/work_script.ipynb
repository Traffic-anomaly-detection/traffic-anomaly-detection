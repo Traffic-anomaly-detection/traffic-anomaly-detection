{
 "cells": [
  {
   "cell_type": "code",
   "execution_count": 126,
   "metadata": {},
   "outputs": [],
   "source": [
    "import requests\n",
    "import pandas as pd\n",
    "import joblib\n",
    "import json\n"
   ]
  },
  {
   "cell_type": "code",
   "execution_count": 127,
   "metadata": {},
   "outputs": [],
   "source": [
    "header_list = ['datetime', 'road_number', 'km', 'direction', 'all_units', 'inflow_units',\n",
    "               'outflow_unit', 'samecell_units', 'avg_speed', 'max_speed', 'avg_traveltime', 'max_traveltime']"
   ]
  },
  {
   "cell_type": "code",
   "execution_count": 128,
   "metadata": {},
   "outputs": [],
   "source": [
    "num_cols = ['all_units', 'inflow_units',\n",
    "            'portion_speed', 'max_speed',\n",
    "            'avg_traveltime', 'max_traveltime']"
   ]
  },
  {
   "cell_type": "code",
   "execution_count": 129,
   "metadata": {},
   "outputs": [],
   "source": [
    "df_km127 = pd.read_csv(\"../dataset/latlon_km127.csv\")"
   ]
  },
  {
   "cell_type": "code",
   "execution_count": 130,
   "metadata": {},
   "outputs": [],
   "source": [
    "def map_traffic_with_latlon(df):\n",
    "    df['lat'] = df.apply(lambda row: df_km127[(df_km127['rd'] == row['road_number']) & (df_km127['km'] == row['km'])]['lat'].values[0]\n",
    "                         if len(df_km127[(df_km127['rd'] == row['road_number']) & (df_km127['km'] == row['km'])]['lat'].values) > 0 else 0, axis=1)\n",
    "    df['lon'] = df.apply(lambda row: df_km127[(df_km127['rd'] == row['road_number']) & (df_km127['km'] == row['km'])]['lon'].values[0]\n",
    "                         if len(df_km127[(df_km127['rd'] == row['road_number']) & (df_km127['km'] == row['km'])]['lon'].values) > 0 else 0, axis=1)\n",
    "    return df"
   ]
  },
  {
   "cell_type": "code",
   "execution_count": 131,
   "metadata": {},
   "outputs": [],
   "source": [
    "road = 2\n",
    "direction = \"in\"\n",
    "sus_cluster = 1"
   ]
  },
  {
   "cell_type": "code",
   "execution_count": 132,
   "metadata": {},
   "outputs": [],
   "source": [
    "gnb_model = joblib.load(f'../Models/GaussianNBModelRoad{road}{direction}.joblib')"
   ]
  },
  {
   "cell_type": "code",
   "execution_count": 133,
   "metadata": {},
   "outputs": [],
   "source": [
    "road_data = pd.read_csv(\"http://analytics2.dlt.transcodeglobal.com/cell_data/current_celldata.csv\",names=header_list)"
   ]
  },
  {
   "cell_type": "code",
   "execution_count": 134,
   "metadata": {},
   "outputs": [],
   "source": [
    "dfm = pd.read_csv(f'../dataset/road{road}-{direction}-mffs.csv')"
   ]
  },
  {
   "cell_type": "code",
   "execution_count": 135,
   "metadata": {},
   "outputs": [],
   "source": [
    "road_data = road_data[(road_data['road_number'] == road)]"
   ]
  },
  {
   "cell_type": "code",
   "execution_count": 136,
   "metadata": {},
   "outputs": [],
   "source": [
    "road_data['mffs'] = road_data['km'].map(dfm.set_index('km')['mffs'])"
   ]
  },
  {
   "cell_type": "code",
   "execution_count": 137,
   "metadata": {},
   "outputs": [],
   "source": [
    "road_data = map_traffic_with_latlon(road_data)"
   ]
  },
  {
   "cell_type": "code",
   "execution_count": 138,
   "metadata": {},
   "outputs": [],
   "source": [
    "road2in_data = road_data[(road_data['road_number']==road) & (road_data['direction']=='in')]"
   ]
  },
  {
   "cell_type": "code",
   "execution_count": 139,
   "metadata": {},
   "outputs": [
    {
     "name": "stderr",
     "output_type": "stream",
     "text": [
      "C:\\Users\\Tananett\\AppData\\Local\\Temp/ipykernel_17128/1312273665.py:1: SettingWithCopyWarning: \n",
      "A value is trying to be set on a copy of a slice from a DataFrame.\n",
      "Try using .loc[row_indexer,col_indexer] = value instead\n",
      "\n",
      "See the caveats in the documentation: https://pandas.pydata.org/pandas-docs/stable/user_guide/indexing.html#returning-a-view-versus-a-copy\n",
      "  road2in_data['portion_speed'] = road2in_data['avg_speed']/road2in_data['mffs']\n"
     ]
    }
   ],
   "source": [
    "road2in_data['portion_speed'] = road2in_data['avg_speed']/road2in_data['mffs']"
   ]
  },
  {
   "cell_type": "code",
   "execution_count": 140,
   "metadata": {},
   "outputs": [],
   "source": [
    "x_predict = road2in_data[num_cols]"
   ]
  },
  {
   "cell_type": "code",
   "execution_count": 141,
   "metadata": {},
   "outputs": [],
   "source": [
    "y_predict = gnb_model.predict(x_predict)"
   ]
  },
  {
   "cell_type": "code",
   "execution_count": 142,
   "metadata": {},
   "outputs": [
    {
     "name": "stderr",
     "output_type": "stream",
     "text": [
      "C:\\Users\\Tananett\\AppData\\Local\\Temp/ipykernel_17128/212174199.py:1: SettingWithCopyWarning: \n",
      "A value is trying to be set on a copy of a slice from a DataFrame.\n",
      "Try using .loc[row_indexer,col_indexer] = value instead\n",
      "\n",
      "See the caveats in the documentation: https://pandas.pydata.org/pandas-docs/stable/user_guide/indexing.html#returning-a-view-versus-a-copy\n",
      "  road2in_data['cluster'] = y_predict\n"
     ]
    }
   ],
   "source": [
    "road2in_data['cluster'] = y_predict"
   ]
  },
  {
   "cell_type": "code",
   "execution_count": 143,
   "metadata": {},
   "outputs": [],
   "source": [
    "y_predict_proba = gnb_model.predict_proba(x_predict)"
   ]
  },
  {
   "cell_type": "code",
   "execution_count": 144,
   "metadata": {},
   "outputs": [],
   "source": [
    "problist = []\n",
    "for i in y_predict_proba :\n",
    "    problist.append(round(i[sus_cluster],3))\n"
   ]
  },
  {
   "cell_type": "code",
   "execution_count": 145,
   "metadata": {},
   "outputs": [
    {
     "name": "stderr",
     "output_type": "stream",
     "text": [
      "C:\\Users\\Tananett\\AppData\\Local\\Temp/ipykernel_17128/3409130349.py:1: SettingWithCopyWarning: \n",
      "A value is trying to be set on a copy of a slice from a DataFrame.\n",
      "Try using .loc[row_indexer,col_indexer] = value instead\n",
      "\n",
      "See the caveats in the documentation: https://pandas.pydata.org/pandas-docs/stable/user_guide/indexing.html#returning-a-view-versus-a-copy\n",
      "  road2in_data['prob'] = problist\n"
     ]
    }
   ],
   "source": [
    "road2in_data['prob'] = problist"
   ]
  },
  {
   "cell_type": "code",
   "execution_count": 146,
   "metadata": {},
   "outputs": [],
   "source": [
    "road2in_data = road2in_data[(road2in_data['cluster']==sus_cluster) & (road2in_data['prob']>=0.8) & (road2in_data['all_units']>=1)]"
   ]
  },
  {
   "cell_type": "code",
   "execution_count": 147,
   "metadata": {},
   "outputs": [
    {
     "data": {
      "text/html": [
       "<div>\n",
       "<style scoped>\n",
       "    .dataframe tbody tr th:only-of-type {\n",
       "        vertical-align: middle;\n",
       "    }\n",
       "\n",
       "    .dataframe tbody tr th {\n",
       "        vertical-align: top;\n",
       "    }\n",
       "\n",
       "    .dataframe thead th {\n",
       "        text-align: right;\n",
       "    }\n",
       "</style>\n",
       "<table border=\"1\" class=\"dataframe\">\n",
       "  <thead>\n",
       "    <tr style=\"text-align: right;\">\n",
       "      <th></th>\n",
       "      <th>datetime</th>\n",
       "      <th>road_number</th>\n",
       "      <th>km</th>\n",
       "      <th>direction</th>\n",
       "      <th>all_units</th>\n",
       "      <th>inflow_units</th>\n",
       "      <th>outflow_unit</th>\n",
       "      <th>samecell_units</th>\n",
       "      <th>avg_speed</th>\n",
       "      <th>max_speed</th>\n",
       "      <th>avg_traveltime</th>\n",
       "      <th>max_traveltime</th>\n",
       "      <th>mffs</th>\n",
       "      <th>lat</th>\n",
       "      <th>lon</th>\n",
       "      <th>portion_speed</th>\n",
       "      <th>cluster</th>\n",
       "      <th>prob</th>\n",
       "    </tr>\n",
       "  </thead>\n",
       "  <tbody>\n",
       "    <tr>\n",
       "      <th>1268</th>\n",
       "      <td>2022-04-28 20:40:30</td>\n",
       "      <td>2</td>\n",
       "      <td>23</td>\n",
       "      <td>in</td>\n",
       "      <td>2</td>\n",
       "      <td>0</td>\n",
       "      <td>1</td>\n",
       "      <td>2</td>\n",
       "      <td>0</td>\n",
       "      <td>0</td>\n",
       "      <td>0</td>\n",
       "      <td>0</td>\n",
       "      <td>112</td>\n",
       "      <td>14.625379</td>\n",
       "      <td>101.099732</td>\n",
       "      <td>0.000000</td>\n",
       "      <td>1</td>\n",
       "      <td>1.000</td>\n",
       "    </tr>\n",
       "    <tr>\n",
       "      <th>1333</th>\n",
       "      <td>2022-04-28 20:40:30</td>\n",
       "      <td>2</td>\n",
       "      <td>57</td>\n",
       "      <td>in</td>\n",
       "      <td>1</td>\n",
       "      <td>0</td>\n",
       "      <td>3</td>\n",
       "      <td>1</td>\n",
       "      <td>0</td>\n",
       "      <td>0</td>\n",
       "      <td>0</td>\n",
       "      <td>0</td>\n",
       "      <td>132</td>\n",
       "      <td>14.660701</td>\n",
       "      <td>101.394109</td>\n",
       "      <td>0.000000</td>\n",
       "      <td>1</td>\n",
       "      <td>1.000</td>\n",
       "    </tr>\n",
       "    <tr>\n",
       "      <th>1387</th>\n",
       "      <td>2022-04-28 20:40:30</td>\n",
       "      <td>2</td>\n",
       "      <td>84</td>\n",
       "      <td>in</td>\n",
       "      <td>1</td>\n",
       "      <td>0</td>\n",
       "      <td>0</td>\n",
       "      <td>1</td>\n",
       "      <td>16</td>\n",
       "      <td>16</td>\n",
       "      <td>0</td>\n",
       "      <td>0</td>\n",
       "      <td>122</td>\n",
       "      <td>14.827820</td>\n",
       "      <td>101.546753</td>\n",
       "      <td>0.131148</td>\n",
       "      <td>1</td>\n",
       "      <td>0.986</td>\n",
       "    </tr>\n",
       "    <tr>\n",
       "      <th>1505</th>\n",
       "      <td>2022-04-28 20:40:30</td>\n",
       "      <td>2</td>\n",
       "      <td>144</td>\n",
       "      <td>in</td>\n",
       "      <td>1</td>\n",
       "      <td>0</td>\n",
       "      <td>1</td>\n",
       "      <td>1</td>\n",
       "      <td>1</td>\n",
       "      <td>1</td>\n",
       "      <td>0</td>\n",
       "      <td>0</td>\n",
       "      <td>87</td>\n",
       "      <td>14.963840</td>\n",
       "      <td>102.064058</td>\n",
       "      <td>0.011494</td>\n",
       "      <td>1</td>\n",
       "      <td>1.000</td>\n",
       "    </tr>\n",
       "    <tr>\n",
       "      <th>1509</th>\n",
       "      <td>2022-04-28 20:40:30</td>\n",
       "      <td>2</td>\n",
       "      <td>148</td>\n",
       "      <td>in</td>\n",
       "      <td>1</td>\n",
       "      <td>1</td>\n",
       "      <td>2</td>\n",
       "      <td>0</td>\n",
       "      <td>3</td>\n",
       "      <td>3</td>\n",
       "      <td>0</td>\n",
       "      <td>0</td>\n",
       "      <td>101</td>\n",
       "      <td>14.979692</td>\n",
       "      <td>102.088000</td>\n",
       "      <td>0.029703</td>\n",
       "      <td>1</td>\n",
       "      <td>1.000</td>\n",
       "    </tr>\n",
       "    <tr>\n",
       "      <th>1512</th>\n",
       "      <td>2022-04-28 20:40:30</td>\n",
       "      <td>2</td>\n",
       "      <td>155</td>\n",
       "      <td>in</td>\n",
       "      <td>1</td>\n",
       "      <td>0</td>\n",
       "      <td>0</td>\n",
       "      <td>1</td>\n",
       "      <td>0</td>\n",
       "      <td>0</td>\n",
       "      <td>0</td>\n",
       "      <td>0</td>\n",
       "      <td>135</td>\n",
       "      <td>15.021292</td>\n",
       "      <td>102.133879</td>\n",
       "      <td>0.000000</td>\n",
       "      <td>1</td>\n",
       "      <td>1.000</td>\n",
       "    </tr>\n",
       "    <tr>\n",
       "      <th>1574</th>\n",
       "      <td>2022-04-28 20:40:30</td>\n",
       "      <td>2</td>\n",
       "      <td>191</td>\n",
       "      <td>in</td>\n",
       "      <td>1</td>\n",
       "      <td>0</td>\n",
       "      <td>1</td>\n",
       "      <td>1</td>\n",
       "      <td>0</td>\n",
       "      <td>0</td>\n",
       "      <td>0</td>\n",
       "      <td>0</td>\n",
       "      <td>121</td>\n",
       "      <td>15.226275</td>\n",
       "      <td>102.367006</td>\n",
       "      <td>0.000000</td>\n",
       "      <td>1</td>\n",
       "      <td>1.000</td>\n",
       "    </tr>\n",
       "    <tr>\n",
       "      <th>1580</th>\n",
       "      <td>2022-04-28 20:40:30</td>\n",
       "      <td>2</td>\n",
       "      <td>194</td>\n",
       "      <td>in</td>\n",
       "      <td>1</td>\n",
       "      <td>1</td>\n",
       "      <td>3</td>\n",
       "      <td>0</td>\n",
       "      <td>0</td>\n",
       "      <td>0</td>\n",
       "      <td>79</td>\n",
       "      <td>79</td>\n",
       "      <td>145</td>\n",
       "      <td>15.244192</td>\n",
       "      <td>102.387928</td>\n",
       "      <td>0.000000</td>\n",
       "      <td>1</td>\n",
       "      <td>1.000</td>\n",
       "    </tr>\n",
       "    <tr>\n",
       "      <th>1694</th>\n",
       "      <td>2022-04-28 20:40:30</td>\n",
       "      <td>2</td>\n",
       "      <td>253</td>\n",
       "      <td>in</td>\n",
       "      <td>1</td>\n",
       "      <td>0</td>\n",
       "      <td>5</td>\n",
       "      <td>1</td>\n",
       "      <td>0</td>\n",
       "      <td>0</td>\n",
       "      <td>0</td>\n",
       "      <td>0</td>\n",
       "      <td>119</td>\n",
       "      <td>15.724166</td>\n",
       "      <td>102.592935</td>\n",
       "      <td>0.000000</td>\n",
       "      <td>1</td>\n",
       "      <td>1.000</td>\n",
       "    </tr>\n",
       "    <tr>\n",
       "      <th>1974</th>\n",
       "      <td>2022-04-28 20:40:30</td>\n",
       "      <td>2</td>\n",
       "      <td>411</td>\n",
       "      <td>in</td>\n",
       "      <td>1</td>\n",
       "      <td>1</td>\n",
       "      <td>2</td>\n",
       "      <td>0</td>\n",
       "      <td>0</td>\n",
       "      <td>0</td>\n",
       "      <td>0</td>\n",
       "      <td>0</td>\n",
       "      <td>104</td>\n",
       "      <td>17.058413</td>\n",
       "      <td>102.920818</td>\n",
       "      <td>0.000000</td>\n",
       "      <td>1</td>\n",
       "      <td>1.000</td>\n",
       "    </tr>\n",
       "    <tr>\n",
       "      <th>2034</th>\n",
       "      <td>2022-04-28 20:40:30</td>\n",
       "      <td>2</td>\n",
       "      <td>464</td>\n",
       "      <td>in</td>\n",
       "      <td>1</td>\n",
       "      <td>0</td>\n",
       "      <td>1</td>\n",
       "      <td>1</td>\n",
       "      <td>0</td>\n",
       "      <td>0</td>\n",
       "      <td>0</td>\n",
       "      <td>0</td>\n",
       "      <td>126</td>\n",
       "      <td>17.486137</td>\n",
       "      <td>102.797119</td>\n",
       "      <td>0.000000</td>\n",
       "      <td>1</td>\n",
       "      <td>1.000</td>\n",
       "    </tr>\n",
       "  </tbody>\n",
       "</table>\n",
       "</div>"
      ],
      "text/plain": [
       "                 datetime  road_number   km direction  all_units  \\\n",
       "1268  2022-04-28 20:40:30            2   23        in          2   \n",
       "1333  2022-04-28 20:40:30            2   57        in          1   \n",
       "1387  2022-04-28 20:40:30            2   84        in          1   \n",
       "1505  2022-04-28 20:40:30            2  144        in          1   \n",
       "1509  2022-04-28 20:40:30            2  148        in          1   \n",
       "1512  2022-04-28 20:40:30            2  155        in          1   \n",
       "1574  2022-04-28 20:40:30            2  191        in          1   \n",
       "1580  2022-04-28 20:40:30            2  194        in          1   \n",
       "1694  2022-04-28 20:40:30            2  253        in          1   \n",
       "1974  2022-04-28 20:40:30            2  411        in          1   \n",
       "2034  2022-04-28 20:40:30            2  464        in          1   \n",
       "\n",
       "      inflow_units  outflow_unit  samecell_units  avg_speed  max_speed  \\\n",
       "1268             0             1               2          0          0   \n",
       "1333             0             3               1          0          0   \n",
       "1387             0             0               1         16         16   \n",
       "1505             0             1               1          1          1   \n",
       "1509             1             2               0          3          3   \n",
       "1512             0             0               1          0          0   \n",
       "1574             0             1               1          0          0   \n",
       "1580             1             3               0          0          0   \n",
       "1694             0             5               1          0          0   \n",
       "1974             1             2               0          0          0   \n",
       "2034             0             1               1          0          0   \n",
       "\n",
       "      avg_traveltime  max_traveltime  mffs        lat         lon  \\\n",
       "1268               0               0   112  14.625379  101.099732   \n",
       "1333               0               0   132  14.660701  101.394109   \n",
       "1387               0               0   122  14.827820  101.546753   \n",
       "1505               0               0    87  14.963840  102.064058   \n",
       "1509               0               0   101  14.979692  102.088000   \n",
       "1512               0               0   135  15.021292  102.133879   \n",
       "1574               0               0   121  15.226275  102.367006   \n",
       "1580              79              79   145  15.244192  102.387928   \n",
       "1694               0               0   119  15.724166  102.592935   \n",
       "1974               0               0   104  17.058413  102.920818   \n",
       "2034               0               0   126  17.486137  102.797119   \n",
       "\n",
       "      portion_speed  cluster   prob  \n",
       "1268       0.000000        1  1.000  \n",
       "1333       0.000000        1  1.000  \n",
       "1387       0.131148        1  0.986  \n",
       "1505       0.011494        1  1.000  \n",
       "1509       0.029703        1  1.000  \n",
       "1512       0.000000        1  1.000  \n",
       "1574       0.000000        1  1.000  \n",
       "1580       0.000000        1  1.000  \n",
       "1694       0.000000        1  1.000  \n",
       "1974       0.000000        1  1.000  \n",
       "2034       0.000000        1  1.000  "
      ]
     },
     "execution_count": 147,
     "metadata": {},
     "output_type": "execute_result"
    }
   ],
   "source": [
    "road2in_data"
   ]
  },
  {
   "cell_type": "code",
   "execution_count": 148,
   "metadata": {},
   "outputs": [],
   "source": [
    "post_data = road2in_data[['road_number','km','direction','inflow_units','outflow_unit','samecell_units','all_units','avg_speed','lat','lon','datetime']]"
   ]
  },
  {
   "cell_type": "code",
   "execution_count": 149,
   "metadata": {},
   "outputs": [],
   "source": [
    "post_data = post_data.values.tolist()"
   ]
  },
  {
   "cell_type": "code",
   "execution_count": 150,
   "metadata": {},
   "outputs": [
    {
     "data": {
      "text/plain": [
       "[[2, 23, 'in', 0, 1, 2, 2, 0, 14.6253785, 101.0997321, '2022-04-28 20:40:30'],\n",
       " [2, 57, 'in', 0, 3, 1, 1, 0, 14.66070063, 101.3941094, '2022-04-28 20:40:30'],\n",
       " [2,\n",
       "  84,\n",
       "  'in',\n",
       "  0,\n",
       "  0,\n",
       "  1,\n",
       "  1,\n",
       "  16,\n",
       "  14.82782034,\n",
       "  101.5467535,\n",
       "  '2022-04-28 20:40:30'],\n",
       " [2,\n",
       "  144,\n",
       "  'in',\n",
       "  0,\n",
       "  1,\n",
       "  1,\n",
       "  1,\n",
       "  1,\n",
       "  14.96384003,\n",
       "  102.0640578,\n",
       "  '2022-04-28 20:40:30'],\n",
       " [2,\n",
       "  148,\n",
       "  'in',\n",
       "  1,\n",
       "  2,\n",
       "  0,\n",
       "  1,\n",
       "  3,\n",
       "  14.97969219,\n",
       "  102.0879996,\n",
       "  '2022-04-28 20:40:30'],\n",
       " [2,\n",
       "  155,\n",
       "  'in',\n",
       "  0,\n",
       "  0,\n",
       "  1,\n",
       "  1,\n",
       "  0,\n",
       "  15.02129224,\n",
       "  102.1338786,\n",
       "  '2022-04-28 20:40:30'],\n",
       " [2,\n",
       "  191,\n",
       "  'in',\n",
       "  0,\n",
       "  1,\n",
       "  1,\n",
       "  1,\n",
       "  0,\n",
       "  15.22627509,\n",
       "  102.3670062,\n",
       "  '2022-04-28 20:40:30'],\n",
       " [2,\n",
       "  194,\n",
       "  'in',\n",
       "  1,\n",
       "  3,\n",
       "  0,\n",
       "  1,\n",
       "  0,\n",
       "  15.24419184,\n",
       "  102.3879281,\n",
       "  '2022-04-28 20:40:30'],\n",
       " [2,\n",
       "  253,\n",
       "  'in',\n",
       "  0,\n",
       "  5,\n",
       "  1,\n",
       "  1,\n",
       "  0,\n",
       "  15.72416561,\n",
       "  102.5929353,\n",
       "  '2022-04-28 20:40:30'],\n",
       " [2,\n",
       "  411,\n",
       "  'in',\n",
       "  1,\n",
       "  2,\n",
       "  0,\n",
       "  1,\n",
       "  0,\n",
       "  17.05841279,\n",
       "  102.9208178,\n",
       "  '2022-04-28 20:40:30'],\n",
       " [2,\n",
       "  464,\n",
       "  'in',\n",
       "  0,\n",
       "  1,\n",
       "  1,\n",
       "  1,\n",
       "  0,\n",
       "  17.48613713,\n",
       "  102.7971187,\n",
       "  '2022-04-28 20:40:30']]"
      ]
     },
     "execution_count": 150,
     "metadata": {},
     "output_type": "execute_result"
    }
   ],
   "source": [
    "post_data"
   ]
  },
  {
   "cell_type": "code",
   "execution_count": 151,
   "metadata": {},
   "outputs": [],
   "source": [
    "# url = 'https://tad-api-v1.herokuapp.com/api/accident/bulk'\n",
    "# # headers = {'Content-type': 'application/json','Accept': 'application/json'}\n",
    "# result = requests.post(url, json=post_data)"
   ]
  },
  {
   "cell_type": "code",
   "execution_count": 152,
   "metadata": {},
   "outputs": [],
   "source": [
    "# print(result.status_code)\n",
    "# print(result.reason)"
   ]
  }
 ],
 "metadata": {
  "interpreter": {
   "hash": "57fbd7e520a9db0e8152c6d121ef44b9c64f3e53c2322912cc962c5e569fd2ac"
  },
  "kernelspec": {
   "display_name": "Python 3.9.6 64-bit",
   "language": "python",
   "name": "python3"
  },
  "language_info": {
   "codemirror_mode": {
    "name": "ipython",
    "version": 3
   },
   "file_extension": ".py",
   "mimetype": "text/x-python",
   "name": "python",
   "nbconvert_exporter": "python",
   "pygments_lexer": "ipython3",
   "version": "3.9.6"
  },
  "orig_nbformat": 4
 },
 "nbformat": 4,
 "nbformat_minor": 2
}
