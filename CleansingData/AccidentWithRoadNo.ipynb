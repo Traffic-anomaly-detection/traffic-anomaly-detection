{
  "cells": [
    {
      "cell_type": "code",
      "execution_count": null,
      "metadata": {
        "id": "D5PSs_x-tUnj"
      },
      "outputs": [],
      "source": [
        "import pandas as pd\n",
        "import numpy as np\n",
        "import math\n",
        "import plotly.express as px"
      ]
    },
    {
      "cell_type": "code",
      "execution_count": null,
      "metadata": {},
      "outputs": [],
      "source": [
        "def round_decimals_down(number:float, decimals:int=3):\n",
        "    \"\"\"\n",
        "    Returns a value rounded down to a specific number of decimal places.\n",
        "    \"\"\"\n",
        "    if not isinstance(decimals, int):\n",
        "        raise TypeError(\"decimal places must be an integer\")\n",
        "    elif decimals < 0:\n",
        "        raise ValueError(\"decimal places has to be 0 or more\")\n",
        "    elif decimals == 0:\n",
        "        return math.floor(number)\n",
        "\n",
        "    factor = 10 ** decimals\n",
        "    return math.floor(number * factor) / factor"
      ]
    },
    {
      "cell_type": "code",
      "execution_count": null,
      "metadata": {
        "colab": {
          "base_uri": "https://localhost:8080/",
          "height": 424
        },
        "id": "GeBr7345uTHZ",
        "outputId": "80236a54-df4a-4e88-842d-6cf762dba9f9"
      },
      "outputs": [],
      "source": [
        "df_acc_2020 = pd.read_csv('../dataset/accdata/event2020.csv').drop([\"title_en\",\"description_en\",\"contributor\",\"type\"],axis =1 )\n",
        "df_acc_2020[\"latx\"] = df_acc_2020[\"latitude\"].round(3)\n",
        "df_acc_2020[\"lonx\"] = df_acc_2020[\"longitude\"].round(3)\n",
        "df_acc_2020[\"coor\"] = df_acc_2020.apply(lambda row: f\"{row['latx']}, {row['lonx']}\", axis='columns' )\n",
        "df_acc_2020"
      ]
    },
    {
      "cell_type": "code",
      "execution_count": null,
      "metadata": {
        "colab": {
          "base_uri": "https://localhost:8080/",
          "height": 424
        },
        "id": "SZnL8lLnx40E",
        "outputId": "2e3b4ced-b231-44f3-d3e1-e05a110d8478"
      },
      "outputs": [],
      "source": [
        "df_route = pd.read_csv(\"../dataset/latlon_km127.csv\")\n",
        "df_route[\"latd\"] = df_route[\"lat\"].apply(round_decimals_down)\n",
        "df_route[\"lond\"] = df_route[\"lon\"].apply(round_decimals_down)\n",
        "df_route[\"latu\"] = df_route[\"lat\"].round(3)\n",
        "df_route[\"lonu\"] = df_route[\"lon\"].round(3)\n",
        "df_route[\"latx\"] = df_route[\"lat\"].round(3)\n",
        "df_route[\"lonx\"] = df_route[\"lon\"].round(3)\n",
        "df_route[\"coord\"] = df_route.apply(lambda row: f\"{row['latd']}, {row['lond']}\", axis='columns' )\n",
        "df_route[\"cooru\"] = df_route.apply(lambda row: f\"{row['latu']}, {row['lonu']}\", axis='columns' )\n",
        "df_route[\"coor\"] = df_route.apply(lambda row: f\"{row['latx']}, {row['lonx']}\", axis='columns' )\n",
        "df_route"
      ]
    },
    {
      "cell_type": "code",
      "execution_count": null,
      "metadata": {
        "id": "6uzuUYVEXRzl"
      },
      "outputs": [],
      "source": [
        "df_route_1 = df_route[df_route[\"rd\"]==1]\n",
        "df_route_2 = df_route[df_route[\"rd\"]==2]\n",
        "df_route_7 = df_route[df_route[\"rd\"]==7]"
      ]
    },
    {
      "cell_type": "code",
      "execution_count": null,
      "metadata": {},
      "outputs": [],
      "source": [
        "df_route_7[df_route_7[\"lond\"]==100.573]"
      ]
    },
    {
      "cell_type": "code",
      "execution_count": null,
      "metadata": {
        "colab": {
          "base_uri": "https://localhost:8080/",
          "height": 424
        },
        "id": "tQ04IygWXXsv",
        "outputId": "1f607562-1bf3-4995-fb04-b4ec706cd344"
      },
      "outputs": [],
      "source": [
        "df_route_1 = df_route_1.sort_values(\"km\")\n",
        "df_route_1 = df_route_1.reset_index(drop=True)\n",
        "df_route_1"
      ]
    },
    {
      "cell_type": "code",
      "execution_count": null,
      "metadata": {
        "colab": {
          "base_uri": "https://localhost:8080/",
          "height": 424
        },
        "id": "9OGbZfAmXYs4",
        "outputId": "ae34dca0-ed13-4d0c-b14d-10908f8d655e"
      },
      "outputs": [],
      "source": [
        "df_route_2 = df_route_2.sort_values(\"km\")\n",
        "df_route_2 = df_route_2.reset_index(drop=True)\n",
        "df_route_2"
      ]
    },
    {
      "cell_type": "code",
      "execution_count": null,
      "metadata": {
        "colab": {
          "base_uri": "https://localhost:8080/",
          "height": 424
        },
        "id": "4UwHEj55XaGL",
        "outputId": "dc6a7dba-7aff-475b-fd59-cf8a01f6cf65"
      },
      "outputs": [],
      "source": [
        "df_route_7 = df_route_7.sort_values(\"km\")\n",
        "df_route_7 = df_route_7.reset_index(drop=True)\n",
        "df_route_7"
      ]
    },
    {
      "cell_type": "code",
      "execution_count": null,
      "metadata": {
        "id": "9hqf34_GXti4"
      },
      "outputs": [],
      "source": [
        "list_route_1_d = df_route_1[\"coord\"].to_list()\n",
        "list_route_2_d = df_route_2[\"coord\"].to_list()\n",
        "list_route_7_d = df_route_7[\"coord\"].to_list()\n",
        "list_route_1_u = df_route_1[\"cooru\"].to_list()\n",
        "list_route_2_u = df_route_2[\"cooru\"].to_list()\n",
        "list_route_7_u = df_route_7[\"cooru\"].to_list()\n",
        "list_route_1 = df_route_1[\"coor\"].to_list()\n",
        "list_route_2 = df_route_2[\"coor\"].to_list()\n",
        "list_route_7 = df_route_7[\"coor\"].to_list()"
      ]
    },
    {
      "cell_type": "code",
      "execution_count": null,
      "metadata": {},
      "outputs": [],
      "source": [
        "# df_acc_2020[\"road_number\"] = df_acc_2020[\"coor\"].apply(lambda x: 1 if x in list_route_1_d else(\n",
        "#     2 if x in list_route_2_d else (7 if x in list_route_7_d else 0)))\n",
        "# df_acc_2020 = df_acc_2020[df_acc_2020[\"road_number\"] != 0]\n",
        "# df_acc_2020\n"
      ]
    },
    {
      "cell_type": "code",
      "execution_count": null,
      "metadata": {},
      "outputs": [],
      "source": [
        "df_acc_2020[\"road_number\"] = df_acc_2020[\"coor\"].apply(lambda x: 1 if x in list_route_1_d or x in list_route_1_u else(\n",
        "    2 if x in list_route_2_d or x in list_route_2_u else (7 if x in list_route_7_d or x in list_route_7_u else 0)))\n",
        "df_acc_2020 = df_acc_2020[df_acc_2020[\"road_number\"] != 0]\n",
        "df_acc_2020\n"
      ]
    },
    {
      "cell_type": "code",
      "execution_count": null,
      "metadata": {
        "colab": {
          "base_uri": "https://localhost:8080/",
          "height": 424
        },
        "id": "8_zExYykYZEJ",
        "outputId": "71c42d04-67cb-49a0-a900-fa7f1cb9754e"
      },
      "outputs": [],
      "source": [
        "# df_acc_2020[\"road_number\"] = df_acc_2020[\"coor\"].apply(lambda x: 1 if x in list_route_1_u else(\n",
        "#     2 if x in list_route_2_u else (7 if x in list_route_7_u else 0)))\n",
        "# df_acc_2020 = df_acc_2020[df_acc_2020[\"road_number\"] != 0]\n",
        "# df_acc_2020\n"
      ]
    },
    {
      "cell_type": "code",
      "execution_count": null,
      "metadata": {},
      "outputs": [],
      "source": [
        "# df_acc_2020[\"road_number\"] = df_acc_2020[\"coor\"].apply(lambda x: 1 if x in list_route_1 else(\n",
        "#     2 if x in list_route_2 else (7 if x in list_route_7 else 0)))\n",
        "# df_acc_2020 = df_acc_2020[df_acc_2020[\"road_number\"] != 0]\n",
        "# df_acc_2020\n"
      ]
    },
    {
      "cell_type": "code",
      "execution_count": null,
      "metadata": {},
      "outputs": [],
      "source": [
        "def mergeKm(data):\n",
        "    dataframe = df_route[df_route[\"rd\"] == data[\"road_number\"]]\n",
        "    return dataframe[(dataframe[\"latx\"]==data[\"latx\"]) & (dataframe[\"lonx\"]==data[\"lonx\"])][\"km\"].values[0]\n"
      ]
    },
    {
      "cell_type": "code",
      "execution_count": null,
      "metadata": {},
      "outputs": [],
      "source": [
        "df_acc_2020.reset_index(drop=True, inplace=True)\n"
      ]
    },
    {
      "cell_type": "code",
      "execution_count": null,
      "metadata": {},
      "outputs": [],
      "source": [
        "df_acc_2020[\"km\"] = df_acc_2020[df_acc_2020[\"road_number\"].isin([1,2,7])].apply(mergeKm, axis=1)\n",
        "df_acc_2020"
      ]
    },
    {
      "cell_type": "code",
      "execution_count": null,
      "metadata": {},
      "outputs": [],
      "source": [
        "# df_acc_2020[df_acc_2020[\"km\"].isna()]\n"
      ]
    },
    {
      "cell_type": "code",
      "execution_count": null,
      "metadata": {
        "id": "EfiAbA-wczFt"
      },
      "outputs": [],
      "source": [
        "# # # df_acc_1[df_acc_1[\"road_number\"]==7].to_csv(\"../dataset/accdata/accident1_with_road_7.csv\")\n",
        "# df_acc_2020[df_acc_2020[\"road_number\"]==1].to_csv(\"../dataset/accdata/accident2020_with_road_1.csv\",index=False)\n",
        "# df_acc_2020[df_acc_2020[\"road_number\"]==2].to_csv(\"../dataset/accdata/accident2020_with_road_2.csv\",index=False)\n",
        "# df_acc_2020[df_acc_2020[\"road_number\"]==7].to_csv(\"../dataset/accdata/accident2020_with_road_7.csv\",index=False)\n",
        "# df_acc_2020.to_csv(\"./accident2020_with_road_V2.csv\", index=False)\n"
      ]
    },
    {
      "cell_type": "code",
      "execution_count": null,
      "metadata": {},
      "outputs": [],
      "source": [
        "fig = px.scatter_mapbox(df_route_7, lat=\"lat\", lon=\"lon\", height=800)\n",
        "fig.update_layout(mapbox_style=\"open-street-map\")\n",
        "fig.show()\n"
      ]
    },
    {
      "cell_type": "code",
      "execution_count": null,
      "metadata": {},
      "outputs": [],
      "source": [
        "fig_2 = px.scatter_mapbox(\n",
        "    df_acc_2020[df_acc_2020[\"road_number\"] == 7], lat=\"latitude\", lon=\"longitude\", height=800)\n",
        "fig_2.update_layout(mapbox_style=\"open-street-map\")\n",
        "fig_2.show()\n"
      ]
    },
    {
      "cell_type": "markdown",
      "metadata": {
        "id": "W8sTSupydqeZ"
      },
      "source": []
    }
  ],
  "metadata": {
    "colab": {
      "collapsed_sections": [],
      "name": "AccidentWithRoadNo",
      "provenance": []
    },
    "kernelspec": {
      "display_name": "Python 3",
      "name": "python3"
    },
    "language_info": {
      "codemirror_mode": {
        "name": "ipython",
        "version": 3
      },
      "file_extension": ".py",
      "mimetype": "text/x-python",
      "name": "python",
      "nbconvert_exporter": "python",
      "pygments_lexer": "ipython3",
      "version": "3.7.9"
    }
  },
  "nbformat": 4,
  "nbformat_minor": 0
}
