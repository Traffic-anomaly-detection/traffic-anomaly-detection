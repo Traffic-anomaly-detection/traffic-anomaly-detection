{
  "nbformat": 4,
  "nbformat_minor": 0,
  "metadata": {
    "colab": {
      "name": "Traffic anomaly detection.ipynb",
      "provenance": [],
      "collapsed_sections": [],
      "include_colab_link": true
    },
    "kernelspec": {
      "display_name": "Python 3",
      "name": "python3"
    }
  },
  "cells": [
    {
      "cell_type": "markdown",
      "metadata": {
        "id": "view-in-github",
        "colab_type": "text"
      },
      "source": [
        "<a href=\"https://colab.research.google.com/github/Traffic-anomaly-detection/traffic-anomaly-detection/blob/master/Traffic_anomaly_detection.ipynb\" target=\"_parent\"><img src=\"https://colab.research.google.com/assets/colab-badge.svg\" alt=\"Open In Colab\"/></a>"
      ]
    },
    {
      "cell_type": "markdown",
      "metadata": {
        "id": "x_SvbM-_qrzn"
      },
      "source": [
        "\n",
        "# Cell_Data CSV file format:\n",
        "\n",
        "แบ่งถนนทุกๆเส้นทางออกเป็น cell แต่ละ cell มีขนาด 1 กม\n",
        "datetime,road_number,km,direction,all_units,inflow_units,outflow_unit,samecell_units,avg_speed,max_speed,avg_traveltime,max_traveltime\n",
        "\n",
        "* datetime = เวลาที่คำนวณ\n",
        "* road_number = หมายเลขทางหลวง\n",
        "* km = กิโลเมตรที่\n",
        "* direction = ทิศทาง \n",
        "* in = รถวิ่งจาก กม. มาก ไปยัง กม. น้อย , out = รถวิ่งจาก กม. น้อย ไปยัง กม. มาก\n",
        "* all_units = จำนวนรถรวมใน cell นั้นที่เวลา datetime\n",
        "* inflow_units = จำนวนรถที่วิ่งเข้า cell นั้นในเวลา datetime\n",
        "* outflow_unit = จำนวนรถที่วิ่งออก cell นั้นในเวลา datetime\n",
        "* samecell_units = จำนวนรถที่ยังอยู่ใน cell นั้นในเวลา datetime\n",
        "* avg_speed = ความเร็วเฉลี่ยของรถใน cell (all_units)\n",
        "* max_speed = ความเร็วสูงสุดของรถใน cell (all_units)\n",
        "* avg_traveltime = ค่า travel time ที่ใช้ในการเดินทางข้าม Cell \n",
        "* max_traveltime = ค่า travel time มากสุดที่ใช้ในการเดินทางข้าม Cell"
      ]
    },
    {
      "cell_type": "markdown",
      "metadata": {
        "id": "H8dna1-jol7c"
      },
      "source": [
        "# Setup Google Drive"
      ]
    },
    {
      "cell_type": "code",
      "metadata": {
        "colab": {
          "base_uri": "https://localhost:8080/"
        },
        "id": "lWoZeOLRwnWK",
        "outputId": "10921d5a-1c7e-499e-c592-bd9c40f30f40"
      },
      "source": [
        "from google.colab import drive\n",
        "drive.mount('/content/drive')"
      ],
      "execution_count": null,
      "outputs": [
        {
          "output_type": "stream",
          "text": [
            "Mounted at /content/drive\n"
          ],
          "name": "stdout"
        }
      ]
    },
    {
      "cell_type": "markdown",
      "metadata": {
        "id": "0D1p5IJtqWX6"
      },
      "source": [
        "# Read Dataset"
      ]
    },
    {
      "cell_type": "code",
      "metadata": {
        "id": "2eGGJR4Omwbg"
      },
      "source": [
        "import pandas as pd\n",
        "import numpy as np"
      ],
      "execution_count": null,
      "outputs": []
    },
    {
      "cell_type": "code",
      "metadata": {
        "id": "JgTS68Orja0N"
      },
      "source": [
        "header_list =  ['datetime','road_number','km','direction','all_units','inflow_units','outflow_unit','samecell_units','avg_speed','max_speed','avg_traveltime','max_traveltime']"
      ],
      "execution_count": null,
      "outputs": []
    },
    {
      "cell_type": "code",
      "metadata": {
        "id": "-VwgAsscqZLJ"
      },
      "source": [
        "\n",
        "df_test = pd.read_csv(\"/content/sample_data/california_housing_test.csv\")\n",
        "df = pd.read_csv(\"/content/drive/MyDrive/ Pre-Project/2020/2020-01/data_2020-01-01_00.csv\", names=header_list)"
      ],
      "execution_count": null,
      "outputs": []
    },
    {
      "cell_type": "markdown",
      "metadata": {
        "id": "ywbl49rnw5sn"
      },
      "source": [
        "# Read many Dataset"
      ]
    },
    {
      "cell_type": "code",
      "metadata": {
        "colab": {
          "background_save": true,
          "base_uri": "https://localhost:8080/"
        },
        "id": "6D9S8K9HoLgy",
        "outputId": "f78c4921-af08-4563-e7a5-c3fe4fd738b8"
      },
      "source": [
        "import glob\n",
        "# get data file names\n",
        "\n",
        "month = '03' ## select month\n",
        "date = '01' ##select date\n",
        "\n",
        "path =r'/content/drive/MyDrive/ Pre-Project/2020/2020'+'-'+month\n",
        "filenames = glob.glob(path + '/data_2020' + '-'+ month + '-' +'?????.csv')\n",
        "\n",
        "day1 = 1\n",
        "day2 = 1\n",
        "\n",
        "day1 = 24*day1 - 24\n",
        "day2 = 24*day2\n",
        "\n",
        "dfs=[]\n",
        "\n",
        "'''for filename in range(10): \n",
        "    dfs.append(pd.read_csv(filenames[filename],names=header_list))'''\n",
        "\n",
        "for filename in range(day1,day2) :\n",
        "  print('loading ',filenames[filename])\n",
        "  dfs.append(pd.read_csv(filenames[filename],names=header_list))\n",
        "\n",
        "# Concatenate all data into one DataFrame\n",
        "big_frame = pd.concat(dfs, ignore_index=True)\n",
        "\n",
        "print('-----------completed---------------')"
      ],
      "execution_count": null,
      "outputs": [
        {
          "output_type": "stream",
          "text": [
            "loading  /content/drive/MyDrive/ Pre-Project/2020/2020-03/data_2020-03-01_00.csv\n",
            "loading  /content/drive/MyDrive/ Pre-Project/2020/2020-03/data_2020-03-01_01.csv\n",
            "loading  /content/drive/MyDrive/ Pre-Project/2020/2020-03/data_2020-03-01_02.csv\n",
            "loading  /content/drive/MyDrive/ Pre-Project/2020/2020-03/data_2020-03-01_03.csv\n",
            "loading  /content/drive/MyDrive/ Pre-Project/2020/2020-03/data_2020-03-01_04.csv\n",
            "loading  /content/drive/MyDrive/ Pre-Project/2020/2020-03/data_2020-03-01_05.csv\n",
            "loading  /content/drive/MyDrive/ Pre-Project/2020/2020-03/data_2020-03-01_06.csv\n",
            "loading  /content/drive/MyDrive/ Pre-Project/2020/2020-03/data_2020-03-01_07.csv\n",
            "loading  /content/drive/MyDrive/ Pre-Project/2020/2020-03/data_2020-03-01_08.csv\n",
            "loading  /content/drive/MyDrive/ Pre-Project/2020/2020-03/data_2020-03-01_09.csv\n",
            "loading  /content/drive/MyDrive/ Pre-Project/2020/2020-03/data_2020-03-01_10.csv\n",
            "loading  /content/drive/MyDrive/ Pre-Project/2020/2020-03/data_2020-03-01_11.csv\n",
            "loading  /content/drive/MyDrive/ Pre-Project/2020/2020-03/data_2020-03-01_12.csv\n",
            "loading  /content/drive/MyDrive/ Pre-Project/2020/2020-03/data_2020-03-01_13.csv\n",
            "loading  /content/drive/MyDrive/ Pre-Project/2020/2020-03/data_2020-03-01_14.csv\n",
            "loading  /content/drive/MyDrive/ Pre-Project/2020/2020-03/data_2020-03-01_15.csv\n",
            "loading  /content/drive/MyDrive/ Pre-Project/2020/2020-03/data_2020-03-01_16.csv\n",
            "loading  /content/drive/MyDrive/ Pre-Project/2020/2020-03/data_2020-03-01_17.csv\n",
            "loading  /content/drive/MyDrive/ Pre-Project/2020/2020-03/data_2020-03-01_18.csv\n",
            "loading  /content/drive/MyDrive/ Pre-Project/2020/2020-03/data_2020-03-01_19.csv\n",
            "loading  /content/drive/MyDrive/ Pre-Project/2020/2020-03/data_2020-03-01_20.csv\n",
            "loading  /content/drive/MyDrive/ Pre-Project/2020/2020-03/data_2020-03-01_21.csv\n",
            "loading  /content/drive/MyDrive/ Pre-Project/2020/2020-03/data_2020-03-01_22.csv\n",
            "loading  /content/drive/MyDrive/ Pre-Project/2020/2020-03/data_2020-03-01_23.csv\n",
            "-----------completed---------------\n"
          ],
          "name": "stdout"
        }
      ]
    },
    {
      "cell_type": "markdown",
      "metadata": {
        "id": "u1_jFrLJ-2Av"
      },
      "source": [
        "Save Dataset as CSV"
      ]
    },
    {
      "cell_type": "code",
      "metadata": {
        "id": "uQOTeH6h-1cy"
      },
      "source": [
        "#df_for_saving = big_frame.copy()\n",
        "#df_for_saving.to_csv(path + '/2020_' + month + '_' + date + '.csv', index=False)"
      ],
      "execution_count": null,
      "outputs": []
    },
    {
      "cell_type": "code",
      "metadata": {
        "colab": {
          "base_uri": "https://localhost:8080/",
          "height": 419
        },
        "id": "eHpC1rDEc_0t",
        "outputId": "8537d841-b89e-49ad-816e-d3c43ee8d50c"
      },
      "source": [
        "big_frame"
      ],
      "execution_count": null,
      "outputs": [
        {
          "output_type": "execute_result",
          "data": {
            "text/html": [
              "<div>\n",
              "<style scoped>\n",
              "    .dataframe tbody tr th:only-of-type {\n",
              "        vertical-align: middle;\n",
              "    }\n",
              "\n",
              "    .dataframe tbody tr th {\n",
              "        vertical-align: top;\n",
              "    }\n",
              "\n",
              "    .dataframe thead th {\n",
              "        text-align: right;\n",
              "    }\n",
              "</style>\n",
              "<table border=\"1\" class=\"dataframe\">\n",
              "  <thead>\n",
              "    <tr style=\"text-align: right;\">\n",
              "      <th></th>\n",
              "      <th>datetime</th>\n",
              "      <th>road_number</th>\n",
              "      <th>km</th>\n",
              "      <th>direction</th>\n",
              "      <th>all_units</th>\n",
              "      <th>inflow_units</th>\n",
              "      <th>outflow_unit</th>\n",
              "      <th>samecell_units</th>\n",
              "      <th>avg_speed</th>\n",
              "      <th>max_speed</th>\n",
              "      <th>avg_traveltime</th>\n",
              "      <th>max_traveltime</th>\n",
              "    </tr>\n",
              "  </thead>\n",
              "  <tbody>\n",
              "    <tr>\n",
              "      <th>0</th>\n",
              "      <td>2020-03-01 00:00:21</td>\n",
              "      <td>1</td>\n",
              "      <td>19</td>\n",
              "      <td>in</td>\n",
              "      <td>0</td>\n",
              "      <td>0</td>\n",
              "      <td>1</td>\n",
              "      <td>0</td>\n",
              "      <td>0</td>\n",
              "      <td>0</td>\n",
              "      <td>0</td>\n",
              "      <td>0</td>\n",
              "    </tr>\n",
              "    <tr>\n",
              "      <th>1</th>\n",
              "      <td>2020-03-01 00:00:21</td>\n",
              "      <td>1</td>\n",
              "      <td>25</td>\n",
              "      <td>in</td>\n",
              "      <td>0</td>\n",
              "      <td>0</td>\n",
              "      <td>1</td>\n",
              "      <td>0</td>\n",
              "      <td>0</td>\n",
              "      <td>0</td>\n",
              "      <td>0</td>\n",
              "      <td>0</td>\n",
              "    </tr>\n",
              "    <tr>\n",
              "      <th>2</th>\n",
              "      <td>2020-03-01 00:00:21</td>\n",
              "      <td>1</td>\n",
              "      <td>25</td>\n",
              "      <td>out</td>\n",
              "      <td>1</td>\n",
              "      <td>0</td>\n",
              "      <td>1</td>\n",
              "      <td>1</td>\n",
              "      <td>70</td>\n",
              "      <td>70</td>\n",
              "      <td>0</td>\n",
              "      <td>0</td>\n",
              "    </tr>\n",
              "    <tr>\n",
              "      <th>3</th>\n",
              "      <td>2020-03-01 00:00:21</td>\n",
              "      <td>1</td>\n",
              "      <td>26</td>\n",
              "      <td>in</td>\n",
              "      <td>5</td>\n",
              "      <td>5</td>\n",
              "      <td>1</td>\n",
              "      <td>0</td>\n",
              "      <td>49</td>\n",
              "      <td>88</td>\n",
              "      <td>66</td>\n",
              "      <td>90</td>\n",
              "    </tr>\n",
              "    <tr>\n",
              "      <th>4</th>\n",
              "      <td>2020-03-01 00:00:21</td>\n",
              "      <td>1</td>\n",
              "      <td>26</td>\n",
              "      <td>out</td>\n",
              "      <td>5</td>\n",
              "      <td>5</td>\n",
              "      <td>1</td>\n",
              "      <td>0</td>\n",
              "      <td>49</td>\n",
              "      <td>88</td>\n",
              "      <td>66</td>\n",
              "      <td>90</td>\n",
              "    </tr>\n",
              "    <tr>\n",
              "      <th>...</th>\n",
              "      <td>...</td>\n",
              "      <td>...</td>\n",
              "      <td>...</td>\n",
              "      <td>...</td>\n",
              "      <td>...</td>\n",
              "      <td>...</td>\n",
              "      <td>...</td>\n",
              "      <td>...</td>\n",
              "      <td>...</td>\n",
              "      <td>...</td>\n",
              "      <td>...</td>\n",
              "      <td>...</td>\n",
              "    </tr>\n",
              "    <tr>\n",
              "      <th>13474278</th>\n",
              "      <td>2020-03-01 23:59:17</td>\n",
              "      <td>3310</td>\n",
              "      <td>6</td>\n",
              "      <td>out</td>\n",
              "      <td>0</td>\n",
              "      <td>0</td>\n",
              "      <td>1</td>\n",
              "      <td>0</td>\n",
              "      <td>0</td>\n",
              "      <td>0</td>\n",
              "      <td>0</td>\n",
              "      <td>0</td>\n",
              "    </tr>\n",
              "    <tr>\n",
              "      <th>13474279</th>\n",
              "      <td>2020-03-01 23:59:17</td>\n",
              "      <td>3310</td>\n",
              "      <td>8</td>\n",
              "      <td>in</td>\n",
              "      <td>0</td>\n",
              "      <td>0</td>\n",
              "      <td>1</td>\n",
              "      <td>0</td>\n",
              "      <td>0</td>\n",
              "      <td>0</td>\n",
              "      <td>0</td>\n",
              "      <td>0</td>\n",
              "    </tr>\n",
              "    <tr>\n",
              "      <th>13474280</th>\n",
              "      <td>2020-03-01 23:59:17</td>\n",
              "      <td>3310</td>\n",
              "      <td>8</td>\n",
              "      <td>out</td>\n",
              "      <td>0</td>\n",
              "      <td>0</td>\n",
              "      <td>1</td>\n",
              "      <td>0</td>\n",
              "      <td>0</td>\n",
              "      <td>0</td>\n",
              "      <td>0</td>\n",
              "      <td>0</td>\n",
              "    </tr>\n",
              "    <tr>\n",
              "      <th>13474281</th>\n",
              "      <td>2020-03-01 23:59:17</td>\n",
              "      <td>3310</td>\n",
              "      <td>9</td>\n",
              "      <td>in</td>\n",
              "      <td>1</td>\n",
              "      <td>1</td>\n",
              "      <td>0</td>\n",
              "      <td>0</td>\n",
              "      <td>40</td>\n",
              "      <td>40</td>\n",
              "      <td>60</td>\n",
              "      <td>60</td>\n",
              "    </tr>\n",
              "    <tr>\n",
              "      <th>13474282</th>\n",
              "      <td>2020-03-01 23:59:17</td>\n",
              "      <td>3310</td>\n",
              "      <td>9</td>\n",
              "      <td>out</td>\n",
              "      <td>1</td>\n",
              "      <td>1</td>\n",
              "      <td>1</td>\n",
              "      <td>0</td>\n",
              "      <td>40</td>\n",
              "      <td>40</td>\n",
              "      <td>60</td>\n",
              "      <td>60</td>\n",
              "    </tr>\n",
              "  </tbody>\n",
              "</table>\n",
              "<p>13474283 rows × 12 columns</p>\n",
              "</div>"
            ],
            "text/plain": [
              "                     datetime  road_number  ...  avg_traveltime max_traveltime\n",
              "0         2020-03-01 00:00:21            1  ...               0              0\n",
              "1         2020-03-01 00:00:21            1  ...               0              0\n",
              "2         2020-03-01 00:00:21            1  ...               0              0\n",
              "3         2020-03-01 00:00:21            1  ...              66             90\n",
              "4         2020-03-01 00:00:21            1  ...              66             90\n",
              "...                       ...          ...  ...             ...            ...\n",
              "13474278  2020-03-01 23:59:17         3310  ...               0              0\n",
              "13474279  2020-03-01 23:59:17         3310  ...               0              0\n",
              "13474280  2020-03-01 23:59:17         3310  ...               0              0\n",
              "13474281  2020-03-01 23:59:17         3310  ...              60             60\n",
              "13474282  2020-03-01 23:59:17         3310  ...              60             60\n",
              "\n",
              "[13474283 rows x 12 columns]"
            ]
          },
          "metadata": {
            "tags": []
          },
          "execution_count": 5
        }
      ]
    },
    {
      "cell_type": "code",
      "metadata": {
        "id": "qXneeXkoYSdh"
      },
      "source": [
        "df = big_frame[(big_frame['road_number'] == 1) & (big_frame['direction'] == 'out')]"
      ],
      "execution_count": null,
      "outputs": []
    },
    {
      "cell_type": "code",
      "metadata": {
        "colab": {
          "base_uri": "https://localhost:8080/",
          "height": 419
        },
        "id": "yKQ1v-gclP3j",
        "outputId": "a884aeb6-b568-47ca-94a3-b429c3bbc3f3"
      },
      "source": [
        "df[df[\"road_number\"]]"
      ],
      "execution_count": null,
      "outputs": [
        {
          "output_type": "execute_result",
          "data": {
            "text/html": [
              "<div>\n",
              "<style scoped>\n",
              "    .dataframe tbody tr th:only-of-type {\n",
              "        vertical-align: middle;\n",
              "    }\n",
              "\n",
              "    .dataframe tbody tr th {\n",
              "        vertical-align: top;\n",
              "    }\n",
              "\n",
              "    .dataframe thead th {\n",
              "        text-align: right;\n",
              "    }\n",
              "</style>\n",
              "<table border=\"1\" class=\"dataframe\">\n",
              "  <thead>\n",
              "    <tr style=\"text-align: right;\">\n",
              "      <th></th>\n",
              "      <th>datetime</th>\n",
              "      <th>road_number</th>\n",
              "      <th>km</th>\n",
              "      <th>direction</th>\n",
              "      <th>all_units</th>\n",
              "      <th>inflow_units</th>\n",
              "      <th>outflow_unit</th>\n",
              "      <th>samecell_units</th>\n",
              "      <th>avg_speed</th>\n",
              "      <th>max_speed</th>\n",
              "      <th>avg_traveltime</th>\n",
              "      <th>max_traveltime</th>\n",
              "    </tr>\n",
              "  </thead>\n",
              "  <tbody>\n",
              "    <tr>\n",
              "      <th>0</th>\n",
              "      <td>2020-03-31 00:00:18</td>\n",
              "      <td>1</td>\n",
              "      <td>19</td>\n",
              "      <td>out</td>\n",
              "      <td>0</td>\n",
              "      <td>0</td>\n",
              "      <td>1</td>\n",
              "      <td>0</td>\n",
              "      <td>0</td>\n",
              "      <td>0</td>\n",
              "      <td>0</td>\n",
              "      <td>0</td>\n",
              "    </tr>\n",
              "    <tr>\n",
              "      <th>2</th>\n",
              "      <td>2020-03-31 00:00:18</td>\n",
              "      <td>1</td>\n",
              "      <td>27</td>\n",
              "      <td>out</td>\n",
              "      <td>1</td>\n",
              "      <td>1</td>\n",
              "      <td>0</td>\n",
              "      <td>0</td>\n",
              "      <td>6</td>\n",
              "      <td>6</td>\n",
              "      <td>0</td>\n",
              "      <td>0</td>\n",
              "    </tr>\n",
              "    <tr>\n",
              "      <th>4</th>\n",
              "      <td>2020-03-31 00:00:18</td>\n",
              "      <td>1</td>\n",
              "      <td>28</td>\n",
              "      <td>out</td>\n",
              "      <td>3</td>\n",
              "      <td>2</td>\n",
              "      <td>0</td>\n",
              "      <td>1</td>\n",
              "      <td>45</td>\n",
              "      <td>60</td>\n",
              "      <td>60</td>\n",
              "      <td>60</td>\n",
              "    </tr>\n",
              "    <tr>\n",
              "      <th>6</th>\n",
              "      <td>2020-03-31 00:00:18</td>\n",
              "      <td>1</td>\n",
              "      <td>29</td>\n",
              "      <td>out</td>\n",
              "      <td>1</td>\n",
              "      <td>1</td>\n",
              "      <td>4</td>\n",
              "      <td>0</td>\n",
              "      <td>60</td>\n",
              "      <td>60</td>\n",
              "      <td>61</td>\n",
              "      <td>61</td>\n",
              "    </tr>\n",
              "    <tr>\n",
              "      <th>8</th>\n",
              "      <td>2020-03-31 00:00:18</td>\n",
              "      <td>1</td>\n",
              "      <td>30</td>\n",
              "      <td>out</td>\n",
              "      <td>3</td>\n",
              "      <td>3</td>\n",
              "      <td>2</td>\n",
              "      <td>0</td>\n",
              "      <td>63</td>\n",
              "      <td>73</td>\n",
              "      <td>58</td>\n",
              "      <td>60</td>\n",
              "    </tr>\n",
              "    <tr>\n",
              "      <th>...</th>\n",
              "      <td>...</td>\n",
              "      <td>...</td>\n",
              "      <td>...</td>\n",
              "      <td>...</td>\n",
              "      <td>...</td>\n",
              "      <td>...</td>\n",
              "      <td>...</td>\n",
              "      <td>...</td>\n",
              "      <td>...</td>\n",
              "      <td>...</td>\n",
              "      <td>...</td>\n",
              "      <td>...</td>\n",
              "    </tr>\n",
              "    <tr>\n",
              "      <th>13786443</th>\n",
              "      <td>2020-03-31 23:59:46</td>\n",
              "      <td>1</td>\n",
              "      <td>912</td>\n",
              "      <td>out</td>\n",
              "      <td>1</td>\n",
              "      <td>1</td>\n",
              "      <td>0</td>\n",
              "      <td>0</td>\n",
              "      <td>50</td>\n",
              "      <td>50</td>\n",
              "      <td>60</td>\n",
              "      <td>60</td>\n",
              "    </tr>\n",
              "    <tr>\n",
              "      <th>13786444</th>\n",
              "      <td>2020-03-31 23:59:46</td>\n",
              "      <td>1</td>\n",
              "      <td>922</td>\n",
              "      <td>out</td>\n",
              "      <td>0</td>\n",
              "      <td>0</td>\n",
              "      <td>1</td>\n",
              "      <td>0</td>\n",
              "      <td>0</td>\n",
              "      <td>0</td>\n",
              "      <td>0</td>\n",
              "      <td>0</td>\n",
              "    </tr>\n",
              "    <tr>\n",
              "      <th>13786445</th>\n",
              "      <td>2020-03-31 23:59:46</td>\n",
              "      <td>1</td>\n",
              "      <td>923</td>\n",
              "      <td>out</td>\n",
              "      <td>1</td>\n",
              "      <td>1</td>\n",
              "      <td>0</td>\n",
              "      <td>0</td>\n",
              "      <td>41</td>\n",
              "      <td>41</td>\n",
              "      <td>60</td>\n",
              "      <td>60</td>\n",
              "    </tr>\n",
              "    <tr>\n",
              "      <th>13786449</th>\n",
              "      <td>2020-03-31 23:59:46</td>\n",
              "      <td>1</td>\n",
              "      <td>949</td>\n",
              "      <td>out</td>\n",
              "      <td>0</td>\n",
              "      <td>0</td>\n",
              "      <td>1</td>\n",
              "      <td>0</td>\n",
              "      <td>0</td>\n",
              "      <td>0</td>\n",
              "      <td>0</td>\n",
              "      <td>0</td>\n",
              "    </tr>\n",
              "    <tr>\n",
              "      <th>13786451</th>\n",
              "      <td>2020-03-31 23:59:46</td>\n",
              "      <td>1</td>\n",
              "      <td>950</td>\n",
              "      <td>out</td>\n",
              "      <td>1</td>\n",
              "      <td>1</td>\n",
              "      <td>0</td>\n",
              "      <td>0</td>\n",
              "      <td>47</td>\n",
              "      <td>47</td>\n",
              "      <td>60</td>\n",
              "      <td>60</td>\n",
              "    </tr>\n",
              "  </tbody>\n",
              "</table>\n",
              "<p>765761 rows × 12 columns</p>\n",
              "</div>"
            ],
            "text/plain": [
              "                     datetime  road_number  ...  avg_traveltime max_traveltime\n",
              "0         2020-03-31 00:00:18            1  ...               0              0\n",
              "2         2020-03-31 00:00:18            1  ...               0              0\n",
              "4         2020-03-31 00:00:18            1  ...              60             60\n",
              "6         2020-03-31 00:00:18            1  ...              61             61\n",
              "8         2020-03-31 00:00:18            1  ...              58             60\n",
              "...                       ...          ...  ...             ...            ...\n",
              "13786443  2020-03-31 23:59:46            1  ...              60             60\n",
              "13786444  2020-03-31 23:59:46            1  ...               0              0\n",
              "13786445  2020-03-31 23:59:46            1  ...              60             60\n",
              "13786449  2020-03-31 23:59:46            1  ...               0              0\n",
              "13786451  2020-03-31 23:59:46            1  ...              60             60\n",
              "\n",
              "[765761 rows x 12 columns]"
            ]
          },
          "metadata": {
            "tags": []
          },
          "execution_count": 70
        }
      ]
    },
    {
      "cell_type": "code",
      "metadata": {
        "id": "d5_WKfxbmtUj"
      },
      "source": [
        "#df.to_csv('/content/drive/MyDrive/ Pre-Project/Root_cleaned/in/03_3131_in.csv',index = False)"
      ],
      "execution_count": null,
      "outputs": []
    },
    {
      "cell_type": "code",
      "metadata": {
        "id": "yp0yzk_0nc_j"
      },
      "source": [
        "#df.to_csv('/content/drive/MyDrive/ Pre-Project/Root_cleaned/out/03_3131_out.csv',index = False)"
      ],
      "execution_count": null,
      "outputs": []
    },
    {
      "cell_type": "markdown",
      "metadata": {
        "id": "xO5T9BdZqlgy"
      },
      "source": [
        "# Select Data"
      ]
    },
    {
      "cell_type": "code",
      "metadata": {
        "id": "7S0f0Vj33BEA"
      },
      "source": [
        "df_day = df.copy()"
      ],
      "execution_count": null,
      "outputs": []
    },
    {
      "cell_type": "code",
      "metadata": {
        "colab": {
          "base_uri": "https://localhost:8080/",
          "height": 419
        },
        "id": "vJXbUZitDm4q",
        "outputId": "7085683d-603d-4c26-96b6-28a4bbab6e20"
      },
      "source": [
        "df_day"
      ],
      "execution_count": null,
      "outputs": [
        {
          "output_type": "execute_result",
          "data": {
            "text/html": [
              "<div>\n",
              "<style scoped>\n",
              "    .dataframe tbody tr th:only-of-type {\n",
              "        vertical-align: middle;\n",
              "    }\n",
              "\n",
              "    .dataframe tbody tr th {\n",
              "        vertical-align: top;\n",
              "    }\n",
              "\n",
              "    .dataframe thead th {\n",
              "        text-align: right;\n",
              "    }\n",
              "</style>\n",
              "<table border=\"1\" class=\"dataframe\">\n",
              "  <thead>\n",
              "    <tr style=\"text-align: right;\">\n",
              "      <th></th>\n",
              "      <th>datetime</th>\n",
              "      <th>road_number</th>\n",
              "      <th>km</th>\n",
              "      <th>direction</th>\n",
              "      <th>all_units</th>\n",
              "      <th>inflow_units</th>\n",
              "      <th>outflow_unit</th>\n",
              "      <th>samecell_units</th>\n",
              "      <th>avg_speed</th>\n",
              "      <th>max_speed</th>\n",
              "      <th>avg_traveltime</th>\n",
              "      <th>max_traveltime</th>\n",
              "    </tr>\n",
              "  </thead>\n",
              "  <tbody>\n",
              "    <tr>\n",
              "      <th>0</th>\n",
              "      <td>2020-01-01 00:00:44</td>\n",
              "      <td>1</td>\n",
              "      <td>19</td>\n",
              "      <td>in</td>\n",
              "      <td>0</td>\n",
              "      <td>0</td>\n",
              "      <td>1</td>\n",
              "      <td>0</td>\n",
              "      <td>0</td>\n",
              "      <td>0</td>\n",
              "      <td>0</td>\n",
              "      <td>0</td>\n",
              "    </tr>\n",
              "    <tr>\n",
              "      <th>1</th>\n",
              "      <td>2020-01-01 00:00:44</td>\n",
              "      <td>1</td>\n",
              "      <td>25</td>\n",
              "      <td>in</td>\n",
              "      <td>0</td>\n",
              "      <td>0</td>\n",
              "      <td>2</td>\n",
              "      <td>0</td>\n",
              "      <td>0</td>\n",
              "      <td>0</td>\n",
              "      <td>0</td>\n",
              "      <td>0</td>\n",
              "    </tr>\n",
              "    <tr>\n",
              "      <th>2</th>\n",
              "      <td>2020-01-01 00:00:44</td>\n",
              "      <td>1</td>\n",
              "      <td>25</td>\n",
              "      <td>out</td>\n",
              "      <td>0</td>\n",
              "      <td>0</td>\n",
              "      <td>2</td>\n",
              "      <td>0</td>\n",
              "      <td>0</td>\n",
              "      <td>0</td>\n",
              "      <td>0</td>\n",
              "      <td>0</td>\n",
              "    </tr>\n",
              "    <tr>\n",
              "      <th>3</th>\n",
              "      <td>2020-01-01 00:00:44</td>\n",
              "      <td>1</td>\n",
              "      <td>26</td>\n",
              "      <td>in</td>\n",
              "      <td>3</td>\n",
              "      <td>3</td>\n",
              "      <td>0</td>\n",
              "      <td>0</td>\n",
              "      <td>87</td>\n",
              "      <td>97</td>\n",
              "      <td>44</td>\n",
              "      <td>60</td>\n",
              "    </tr>\n",
              "    <tr>\n",
              "      <th>4</th>\n",
              "      <td>2020-01-01 00:00:44</td>\n",
              "      <td>1</td>\n",
              "      <td>26</td>\n",
              "      <td>out</td>\n",
              "      <td>3</td>\n",
              "      <td>3</td>\n",
              "      <td>0</td>\n",
              "      <td>0</td>\n",
              "      <td>87</td>\n",
              "      <td>97</td>\n",
              "      <td>44</td>\n",
              "      <td>60</td>\n",
              "    </tr>\n",
              "    <tr>\n",
              "      <th>...</th>\n",
              "      <td>...</td>\n",
              "      <td>...</td>\n",
              "      <td>...</td>\n",
              "      <td>...</td>\n",
              "      <td>...</td>\n",
              "      <td>...</td>\n",
              "      <td>...</td>\n",
              "      <td>...</td>\n",
              "      <td>...</td>\n",
              "      <td>...</td>\n",
              "      <td>...</td>\n",
              "      <td>...</td>\n",
              "    </tr>\n",
              "    <tr>\n",
              "      <th>241204</th>\n",
              "      <td>2020-01-01 00:59:07</td>\n",
              "      <td>3310</td>\n",
              "      <td>7</td>\n",
              "      <td>out</td>\n",
              "      <td>2</td>\n",
              "      <td>1</td>\n",
              "      <td>0</td>\n",
              "      <td>1</td>\n",
              "      <td>63</td>\n",
              "      <td>82</td>\n",
              "      <td>40</td>\n",
              "      <td>40</td>\n",
              "    </tr>\n",
              "    <tr>\n",
              "      <th>241205</th>\n",
              "      <td>2020-01-01 00:59:07</td>\n",
              "      <td>3310</td>\n",
              "      <td>8</td>\n",
              "      <td>in</td>\n",
              "      <td>1</td>\n",
              "      <td>0</td>\n",
              "      <td>3</td>\n",
              "      <td>1</td>\n",
              "      <td>72</td>\n",
              "      <td>72</td>\n",
              "      <td>0</td>\n",
              "      <td>0</td>\n",
              "    </tr>\n",
              "    <tr>\n",
              "      <th>241206</th>\n",
              "      <td>2020-01-01 00:59:07</td>\n",
              "      <td>3310</td>\n",
              "      <td>8</td>\n",
              "      <td>out</td>\n",
              "      <td>1</td>\n",
              "      <td>0</td>\n",
              "      <td>3</td>\n",
              "      <td>1</td>\n",
              "      <td>72</td>\n",
              "      <td>72</td>\n",
              "      <td>0</td>\n",
              "      <td>0</td>\n",
              "    </tr>\n",
              "    <tr>\n",
              "      <th>241207</th>\n",
              "      <td>2020-01-01 00:59:07</td>\n",
              "      <td>3310</td>\n",
              "      <td>9</td>\n",
              "      <td>in</td>\n",
              "      <td>2</td>\n",
              "      <td>2</td>\n",
              "      <td>0</td>\n",
              "      <td>0</td>\n",
              "      <td>52</td>\n",
              "      <td>53</td>\n",
              "      <td>60</td>\n",
              "      <td>60</td>\n",
              "    </tr>\n",
              "    <tr>\n",
              "      <th>241208</th>\n",
              "      <td>2020-01-01 00:59:07</td>\n",
              "      <td>3310</td>\n",
              "      <td>9</td>\n",
              "      <td>out</td>\n",
              "      <td>2</td>\n",
              "      <td>2</td>\n",
              "      <td>1</td>\n",
              "      <td>0</td>\n",
              "      <td>52</td>\n",
              "      <td>53</td>\n",
              "      <td>60</td>\n",
              "      <td>60</td>\n",
              "    </tr>\n",
              "  </tbody>\n",
              "</table>\n",
              "<p>241209 rows × 12 columns</p>\n",
              "</div>"
            ],
            "text/plain": [
              "                   datetime  road_number  ...  avg_traveltime max_traveltime\n",
              "0       2020-01-01 00:00:44            1  ...               0              0\n",
              "1       2020-01-01 00:00:44            1  ...               0              0\n",
              "2       2020-01-01 00:00:44            1  ...               0              0\n",
              "3       2020-01-01 00:00:44            1  ...              44             60\n",
              "4       2020-01-01 00:00:44            1  ...              44             60\n",
              "...                     ...          ...  ...             ...            ...\n",
              "241204  2020-01-01 00:59:07         3310  ...              40             40\n",
              "241205  2020-01-01 00:59:07         3310  ...               0              0\n",
              "241206  2020-01-01 00:59:07         3310  ...               0              0\n",
              "241207  2020-01-01 00:59:07         3310  ...              60             60\n",
              "241208  2020-01-01 00:59:07         3310  ...              60             60\n",
              "\n",
              "[241209 rows x 12 columns]"
            ]
          },
          "metadata": {
            "tags": []
          },
          "execution_count": 8
        }
      ]
    },
    {
      "cell_type": "code",
      "metadata": {
        "id": "IcJKv_trD1SD"
      },
      "source": [
        "df_day['datetime'] = pd.to_datetime(df_day['datetime'], errors='coerce')"
      ],
      "execution_count": null,
      "outputs": []
    },
    {
      "cell_type": "code",
      "metadata": {
        "id": "IygsQtEr4MiR"
      },
      "source": [
        "df_day[\"day_of_week\"] = df_day[\"datetime\"].dt.day_name()"
      ],
      "execution_count": null,
      "outputs": []
    },
    {
      "cell_type": "code",
      "metadata": {
        "colab": {
          "base_uri": "https://localhost:8080/",
          "height": 419
        },
        "id": "jlI22f3e5DZH",
        "outputId": "eb1cdedf-fa0b-448b-ddfb-1988781b18f8"
      },
      "source": [
        "df_day[(df_day[\"road_number\"]==1) & (df_day[\"direction\"]==\"in\")]"
      ],
      "execution_count": null,
      "outputs": [
        {
          "output_type": "execute_result",
          "data": {
            "text/html": [
              "<div>\n",
              "<style scoped>\n",
              "    .dataframe tbody tr th:only-of-type {\n",
              "        vertical-align: middle;\n",
              "    }\n",
              "\n",
              "    .dataframe tbody tr th {\n",
              "        vertical-align: top;\n",
              "    }\n",
              "\n",
              "    .dataframe thead th {\n",
              "        text-align: right;\n",
              "    }\n",
              "</style>\n",
              "<table border=\"1\" class=\"dataframe\">\n",
              "  <thead>\n",
              "    <tr style=\"text-align: right;\">\n",
              "      <th></th>\n",
              "      <th>datetime</th>\n",
              "      <th>road_number</th>\n",
              "      <th>km</th>\n",
              "      <th>direction</th>\n",
              "      <th>all_units</th>\n",
              "      <th>inflow_units</th>\n",
              "      <th>outflow_unit</th>\n",
              "      <th>samecell_units</th>\n",
              "      <th>avg_speed</th>\n",
              "      <th>max_speed</th>\n",
              "      <th>avg_traveltime</th>\n",
              "      <th>max_traveltime</th>\n",
              "      <th>day_of_week</th>\n",
              "    </tr>\n",
              "  </thead>\n",
              "  <tbody>\n",
              "    <tr>\n",
              "      <th>0</th>\n",
              "      <td>2020-01-01 00:00:44</td>\n",
              "      <td>1</td>\n",
              "      <td>19</td>\n",
              "      <td>in</td>\n",
              "      <td>0</td>\n",
              "      <td>0</td>\n",
              "      <td>1</td>\n",
              "      <td>0</td>\n",
              "      <td>0</td>\n",
              "      <td>0</td>\n",
              "      <td>0</td>\n",
              "      <td>0</td>\n",
              "      <td>Wednesday</td>\n",
              "    </tr>\n",
              "    <tr>\n",
              "      <th>1</th>\n",
              "      <td>2020-01-01 00:00:44</td>\n",
              "      <td>1</td>\n",
              "      <td>25</td>\n",
              "      <td>in</td>\n",
              "      <td>0</td>\n",
              "      <td>0</td>\n",
              "      <td>2</td>\n",
              "      <td>0</td>\n",
              "      <td>0</td>\n",
              "      <td>0</td>\n",
              "      <td>0</td>\n",
              "      <td>0</td>\n",
              "      <td>Wednesday</td>\n",
              "    </tr>\n",
              "    <tr>\n",
              "      <th>3</th>\n",
              "      <td>2020-01-01 00:00:44</td>\n",
              "      <td>1</td>\n",
              "      <td>26</td>\n",
              "      <td>in</td>\n",
              "      <td>3</td>\n",
              "      <td>3</td>\n",
              "      <td>0</td>\n",
              "      <td>0</td>\n",
              "      <td>87</td>\n",
              "      <td>97</td>\n",
              "      <td>44</td>\n",
              "      <td>60</td>\n",
              "      <td>Wednesday</td>\n",
              "    </tr>\n",
              "    <tr>\n",
              "      <th>5</th>\n",
              "      <td>2020-01-01 00:00:44</td>\n",
              "      <td>1</td>\n",
              "      <td>27</td>\n",
              "      <td>in</td>\n",
              "      <td>1</td>\n",
              "      <td>1</td>\n",
              "      <td>0</td>\n",
              "      <td>0</td>\n",
              "      <td>3</td>\n",
              "      <td>3</td>\n",
              "      <td>75</td>\n",
              "      <td>75</td>\n",
              "      <td>Wednesday</td>\n",
              "    </tr>\n",
              "    <tr>\n",
              "      <th>7</th>\n",
              "      <td>2020-01-01 00:00:44</td>\n",
              "      <td>1</td>\n",
              "      <td>28</td>\n",
              "      <td>in</td>\n",
              "      <td>2</td>\n",
              "      <td>1</td>\n",
              "      <td>3</td>\n",
              "      <td>1</td>\n",
              "      <td>27</td>\n",
              "      <td>27</td>\n",
              "      <td>0</td>\n",
              "      <td>0</td>\n",
              "      <td>Wednesday</td>\n",
              "    </tr>\n",
              "    <tr>\n",
              "      <th>...</th>\n",
              "      <td>...</td>\n",
              "      <td>...</td>\n",
              "      <td>...</td>\n",
              "      <td>...</td>\n",
              "      <td>...</td>\n",
              "      <td>...</td>\n",
              "      <td>...</td>\n",
              "      <td>...</td>\n",
              "      <td>...</td>\n",
              "      <td>...</td>\n",
              "      <td>...</td>\n",
              "      <td>...</td>\n",
              "      <td>...</td>\n",
              "    </tr>\n",
              "    <tr>\n",
              "      <th>237552</th>\n",
              "      <td>2020-01-01 00:59:07</td>\n",
              "      <td>1</td>\n",
              "      <td>795</td>\n",
              "      <td>in</td>\n",
              "      <td>1</td>\n",
              "      <td>1</td>\n",
              "      <td>0</td>\n",
              "      <td>0</td>\n",
              "      <td>50</td>\n",
              "      <td>50</td>\n",
              "      <td>61</td>\n",
              "      <td>61</td>\n",
              "      <td>Wednesday</td>\n",
              "    </tr>\n",
              "    <tr>\n",
              "      <th>237553</th>\n",
              "      <td>2020-01-01 00:59:07</td>\n",
              "      <td>1</td>\n",
              "      <td>796</td>\n",
              "      <td>in</td>\n",
              "      <td>0</td>\n",
              "      <td>0</td>\n",
              "      <td>1</td>\n",
              "      <td>0</td>\n",
              "      <td>0</td>\n",
              "      <td>0</td>\n",
              "      <td>0</td>\n",
              "      <td>0</td>\n",
              "      <td>Wednesday</td>\n",
              "    </tr>\n",
              "    <tr>\n",
              "      <th>237555</th>\n",
              "      <td>2020-01-01 00:59:07</td>\n",
              "      <td>1</td>\n",
              "      <td>833</td>\n",
              "      <td>in</td>\n",
              "      <td>1</td>\n",
              "      <td>1</td>\n",
              "      <td>0</td>\n",
              "      <td>0</td>\n",
              "      <td>52</td>\n",
              "      <td>52</td>\n",
              "      <td>59</td>\n",
              "      <td>59</td>\n",
              "      <td>Wednesday</td>\n",
              "    </tr>\n",
              "    <tr>\n",
              "      <th>237557</th>\n",
              "      <td>2020-01-01 00:59:07</td>\n",
              "      <td>1</td>\n",
              "      <td>834</td>\n",
              "      <td>in</td>\n",
              "      <td>0</td>\n",
              "      <td>0</td>\n",
              "      <td>1</td>\n",
              "      <td>0</td>\n",
              "      <td>0</td>\n",
              "      <td>0</td>\n",
              "      <td>0</td>\n",
              "      <td>0</td>\n",
              "      <td>Wednesday</td>\n",
              "    </tr>\n",
              "    <tr>\n",
              "      <th>237563</th>\n",
              "      <td>2020-01-01 00:59:07</td>\n",
              "      <td>1</td>\n",
              "      <td>991</td>\n",
              "      <td>in</td>\n",
              "      <td>1</td>\n",
              "      <td>0</td>\n",
              "      <td>0</td>\n",
              "      <td>1</td>\n",
              "      <td>46</td>\n",
              "      <td>46</td>\n",
              "      <td>0</td>\n",
              "      <td>0</td>\n",
              "      <td>Wednesday</td>\n",
              "    </tr>\n",
              "  </tbody>\n",
              "</table>\n",
              "<p>15342 rows × 13 columns</p>\n",
              "</div>"
            ],
            "text/plain": [
              "                  datetime  road_number  ...  max_traveltime day_of_week\n",
              "0      2020-01-01 00:00:44            1  ...               0   Wednesday\n",
              "1      2020-01-01 00:00:44            1  ...               0   Wednesday\n",
              "3      2020-01-01 00:00:44            1  ...              60   Wednesday\n",
              "5      2020-01-01 00:00:44            1  ...              75   Wednesday\n",
              "7      2020-01-01 00:00:44            1  ...               0   Wednesday\n",
              "...                    ...          ...  ...             ...         ...\n",
              "237552 2020-01-01 00:59:07            1  ...              61   Wednesday\n",
              "237553 2020-01-01 00:59:07            1  ...               0   Wednesday\n",
              "237555 2020-01-01 00:59:07            1  ...              59   Wednesday\n",
              "237557 2020-01-01 00:59:07            1  ...               0   Wednesday\n",
              "237563 2020-01-01 00:59:07            1  ...               0   Wednesday\n",
              "\n",
              "[15342 rows x 13 columns]"
            ]
          },
          "metadata": {
            "tags": []
          },
          "execution_count": 20
        }
      ]
    },
    {
      "cell_type": "code",
      "metadata": {
        "colab": {
          "base_uri": "https://localhost:8080/",
          "height": 163
        },
        "id": "OB0OwNUTE11h",
        "outputId": "c824cef4-9e27-4496-c7a9-52ceefd2eda1"
      },
      "source": [
        "df_day[df_day[\"direction\"]==\"in\"]"
      ],
      "execution_count": null,
      "outputs": [
        {
          "output_type": "error",
          "ename": "NameError",
          "evalue": "ignored",
          "traceback": [
            "\u001b[0;31m---------------------------------------------------------------------------\u001b[0m",
            "\u001b[0;31mNameError\u001b[0m                                 Traceback (most recent call last)",
            "\u001b[0;32m<ipython-input-1-b5eafee3043a>\u001b[0m in \u001b[0;36m<module>\u001b[0;34m()\u001b[0m\n\u001b[0;32m----> 1\u001b[0;31m \u001b[0mdf_day\u001b[0m\u001b[0;34m[\u001b[0m\u001b[0mdf_day\u001b[0m\u001b[0;34m[\u001b[0m\u001b[0;34m\"direction\"\u001b[0m\u001b[0;34m]\u001b[0m\u001b[0;34m==\u001b[0m\u001b[0;34m\"in\"\u001b[0m\u001b[0;34m]\u001b[0m\u001b[0;34m\u001b[0m\u001b[0;34m\u001b[0m\u001b[0m\n\u001b[0m",
            "\u001b[0;31mNameError\u001b[0m: name 'df_day' is not defined"
          ]
        }
      ]
    },
    {
      "cell_type": "markdown",
      "metadata": {
        "id": "KcPbux3h-fGf"
      },
      "source": [
        "# big_frame"
      ]
    },
    {
      "cell_type": "code",
      "metadata": {
        "id": "B_uDRACL9U5J"
      },
      "source": [
        "big_frame.road_number.unique()"
      ],
      "execution_count": null,
      "outputs": []
    },
    {
      "cell_type": "code",
      "metadata": {
        "id": "fDfgFHYemJ0n"
      },
      "source": [
        "big_frame[\"datetime\"] = pd.to_datetime(big_frame[\"datetime\"], errors='coerce')"
      ],
      "execution_count": null,
      "outputs": []
    },
    {
      "cell_type": "code",
      "metadata": {
        "id": "p7q5O7uD8G_N"
      },
      "source": [
        "big_frame[\"day_of_week\"] = big_frame[\"datetime\"].dt.day_name()"
      ],
      "execution_count": null,
      "outputs": []
    },
    {
      "cell_type": "code",
      "metadata": {
        "id": "eeKYxdUSUWOk"
      },
      "source": [
        "big_frame"
      ],
      "execution_count": null,
      "outputs": []
    },
    {
      "cell_type": "code",
      "metadata": {
        "id": "gtWPltyFzZ90"
      },
      "source": [
        "from google.colab import files\n",
        "\n",
        "with open('example.txt', 'w') as f:\n",
        "  f.write('some content')\n",
        "\n",
        "files.download('example.txt')"
      ],
      "execution_count": null,
      "outputs": []
    },
    {
      "cell_type": "code",
      "metadata": {
        "id": "X0glhptRzaIc"
      },
      "source": [
        "from google.colab import files\n",
        "\n",
        "with open('example.txt', 'w') as f:\n",
        "  f.write('some content')\n",
        "\n",
        "files.download('example.txt')"
      ],
      "execution_count": null,
      "outputs": []
    },
    {
      "cell_type": "code",
      "metadata": {
        "id": "LfWpCg1bzak8"
      },
      "source": [
        "from google.colab import files\n",
        "\n",
        "with open('example.txt', 'w') as f:\n",
        "  f.write('some content')\n",
        "\n",
        "files.download('example.txt')"
      ],
      "execution_count": null,
      "outputs": []
    },
    {
      "cell_type": "code",
      "metadata": {
        "id": "T_g9m201zYST"
      },
      "source": [
        "from google.colab import files\n",
        "\n",
        "with open('example.txt', 'w') as f:\n",
        "  f.write('some content')\n",
        "\n",
        "files.download('example.txt')"
      ],
      "execution_count": null,
      "outputs": []
    },
    {
      "cell_type": "code",
      "metadata": {
        "id": "nK1vFJ0pzYxk"
      },
      "source": [
        "from google.colab import files\n",
        "\n",
        "with open('example.txt', 'w') as f:\n",
        "  f.write('some content')\n",
        "\n",
        "files.download('example.txt')"
      ],
      "execution_count": null,
      "outputs": []
    },
    {
      "cell_type": "code",
      "metadata": {
        "id": "fZOQM3i-8_fV"
      },
      "source": [
        "big_frame.groupby('road_number').apply(display)"
      ],
      "execution_count": null,
      "outputs": []
    },
    {
      "cell_type": "code",
      "metadata": {
        "id": "d0Wdw2SLClY9"
      },
      "source": [
        "big_frame['road_number']"
      ],
      "execution_count": null,
      "outputs": []
    }
  ]
}