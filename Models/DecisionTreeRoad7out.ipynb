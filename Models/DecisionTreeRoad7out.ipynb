{
 "cells": [
  {
   "cell_type": "code",
   "execution_count": 1,
   "metadata": {},
   "outputs": [],
   "source": [
    "import pandas as pd\n",
    "import numpy as np\n",
    "import seaborn as sns\n",
    "import matplotlib.pyplot as plt\n",
    "from sklearn import preprocessing\n",
    "from sklearn.model_selection import train_test_split\n",
    "from sklearn.tree import DecisionTreeClassifier\n",
    "from sklearn.tree import export_graphviz\n",
    "from sklearn.tree import export_text\n",
    "from sklearn.metrics import classification_report,confusion_matrix\n",
    "from sklearn.model_selection import GridSearchCV\n",
    "from sklearn.preprocessing import StandardScaler\n",
    "from sklearn.metrics import accuracy_score,f1_score\n"
   ]
  },
  {
   "cell_type": "code",
   "execution_count": 2,
   "metadata": {},
   "outputs": [
    {
     "data": {
      "text/html": [
       "<div>\n",
       "<style scoped>\n",
       "    .dataframe tbody tr th:only-of-type {\n",
       "        vertical-align: middle;\n",
       "    }\n",
       "\n",
       "    .dataframe tbody tr th {\n",
       "        vertical-align: top;\n",
       "    }\n",
       "\n",
       "    .dataframe thead th {\n",
       "        text-align: right;\n",
       "    }\n",
       "</style>\n",
       "<table border=\"1\" class=\"dataframe\">\n",
       "  <thead>\n",
       "    <tr style=\"text-align: right;\">\n",
       "      <th></th>\n",
       "      <th>datetime</th>\n",
       "      <th>road_number</th>\n",
       "      <th>km</th>\n",
       "      <th>direction</th>\n",
       "      <th>all_units</th>\n",
       "      <th>inflow_units</th>\n",
       "      <th>outflow_unit</th>\n",
       "      <th>samecell_units</th>\n",
       "      <th>avg_speed</th>\n",
       "      <th>max_speed</th>\n",
       "      <th>avg_traveltime</th>\n",
       "      <th>max_traveltime</th>\n",
       "      <th>inflow_units_N</th>\n",
       "      <th>outflow_units_N</th>\n",
       "      <th>avg_speed_N</th>\n",
       "      <th>cluster</th>\n",
       "      <th>label</th>\n",
       "    </tr>\n",
       "  </thead>\n",
       "  <tbody>\n",
       "    <tr>\n",
       "      <th>0</th>\n",
       "      <td>2020-02-01 00:00:34</td>\n",
       "      <td>7</td>\n",
       "      <td>0</td>\n",
       "      <td>out</td>\n",
       "      <td>10</td>\n",
       "      <td>4</td>\n",
       "      <td>7</td>\n",
       "      <td>6</td>\n",
       "      <td>60</td>\n",
       "      <td>105</td>\n",
       "      <td>0</td>\n",
       "      <td>0</td>\n",
       "      <td>0.076923</td>\n",
       "      <td>0.159091</td>\n",
       "      <td>0.7500</td>\n",
       "      <td>0</td>\n",
       "      <td>0</td>\n",
       "    </tr>\n",
       "    <tr>\n",
       "      <th>1</th>\n",
       "      <td>2020-02-01 00:00:34</td>\n",
       "      <td>7</td>\n",
       "      <td>1</td>\n",
       "      <td>out</td>\n",
       "      <td>5</td>\n",
       "      <td>5</td>\n",
       "      <td>3</td>\n",
       "      <td>0</td>\n",
       "      <td>69</td>\n",
       "      <td>84</td>\n",
       "      <td>108</td>\n",
       "      <td>180</td>\n",
       "      <td>0.096154</td>\n",
       "      <td>0.068182</td>\n",
       "      <td>0.8625</td>\n",
       "      <td>2</td>\n",
       "      <td>0</td>\n",
       "    </tr>\n",
       "    <tr>\n",
       "      <th>2</th>\n",
       "      <td>2020-02-01 00:00:34</td>\n",
       "      <td>7</td>\n",
       "      <td>2</td>\n",
       "      <td>out</td>\n",
       "      <td>3</td>\n",
       "      <td>3</td>\n",
       "      <td>2</td>\n",
       "      <td>0</td>\n",
       "      <td>79</td>\n",
       "      <td>98</td>\n",
       "      <td>59</td>\n",
       "      <td>60</td>\n",
       "      <td>0.057692</td>\n",
       "      <td>0.045455</td>\n",
       "      <td>0.9875</td>\n",
       "      <td>2</td>\n",
       "      <td>0</td>\n",
       "    </tr>\n",
       "    <tr>\n",
       "      <th>3</th>\n",
       "      <td>2020-02-01 00:00:34</td>\n",
       "      <td>7</td>\n",
       "      <td>4</td>\n",
       "      <td>out</td>\n",
       "      <td>0</td>\n",
       "      <td>0</td>\n",
       "      <td>1</td>\n",
       "      <td>0</td>\n",
       "      <td>0</td>\n",
       "      <td>0</td>\n",
       "      <td>0</td>\n",
       "      <td>0</td>\n",
       "      <td>0.000000</td>\n",
       "      <td>0.022727</td>\n",
       "      <td>0.0000</td>\n",
       "      <td>1</td>\n",
       "      <td>1</td>\n",
       "    </tr>\n",
       "    <tr>\n",
       "      <th>4</th>\n",
       "      <td>2020-02-01 00:00:34</td>\n",
       "      <td>7</td>\n",
       "      <td>6</td>\n",
       "      <td>out</td>\n",
       "      <td>2</td>\n",
       "      <td>2</td>\n",
       "      <td>1</td>\n",
       "      <td>0</td>\n",
       "      <td>68</td>\n",
       "      <td>75</td>\n",
       "      <td>64</td>\n",
       "      <td>86</td>\n",
       "      <td>0.038462</td>\n",
       "      <td>0.022727</td>\n",
       "      <td>0.8500</td>\n",
       "      <td>2</td>\n",
       "      <td>0</td>\n",
       "    </tr>\n",
       "    <tr>\n",
       "      <th>...</th>\n",
       "      <td>...</td>\n",
       "      <td>...</td>\n",
       "      <td>...</td>\n",
       "      <td>...</td>\n",
       "      <td>...</td>\n",
       "      <td>...</td>\n",
       "      <td>...</td>\n",
       "      <td>...</td>\n",
       "      <td>...</td>\n",
       "      <td>...</td>\n",
       "      <td>...</td>\n",
       "      <td>...</td>\n",
       "      <td>...</td>\n",
       "      <td>...</td>\n",
       "      <td>...</td>\n",
       "      <td>...</td>\n",
       "      <td>...</td>\n",
       "    </tr>\n",
       "    <tr>\n",
       "      <th>4519315</th>\n",
       "      <td>2020-02-29 23:59:14</td>\n",
       "      <td>7</td>\n",
       "      <td>108</td>\n",
       "      <td>out</td>\n",
       "      <td>2</td>\n",
       "      <td>2</td>\n",
       "      <td>2</td>\n",
       "      <td>0</td>\n",
       "      <td>38</td>\n",
       "      <td>52</td>\n",
       "      <td>68</td>\n",
       "      <td>76</td>\n",
       "      <td>0.038462</td>\n",
       "      <td>0.045455</td>\n",
       "      <td>0.4750</td>\n",
       "      <td>4</td>\n",
       "      <td>1</td>\n",
       "    </tr>\n",
       "    <tr>\n",
       "      <th>4519316</th>\n",
       "      <td>2020-02-29 23:59:14</td>\n",
       "      <td>7</td>\n",
       "      <td>109</td>\n",
       "      <td>out</td>\n",
       "      <td>1</td>\n",
       "      <td>1</td>\n",
       "      <td>3</td>\n",
       "      <td>0</td>\n",
       "      <td>36</td>\n",
       "      <td>36</td>\n",
       "      <td>60</td>\n",
       "      <td>60</td>\n",
       "      <td>0.019231</td>\n",
       "      <td>0.068182</td>\n",
       "      <td>0.4500</td>\n",
       "      <td>4</td>\n",
       "      <td>1</td>\n",
       "    </tr>\n",
       "    <tr>\n",
       "      <th>4519317</th>\n",
       "      <td>2020-02-29 23:59:14</td>\n",
       "      <td>7</td>\n",
       "      <td>111</td>\n",
       "      <td>out</td>\n",
       "      <td>1</td>\n",
       "      <td>1</td>\n",
       "      <td>0</td>\n",
       "      <td>0</td>\n",
       "      <td>64</td>\n",
       "      <td>64</td>\n",
       "      <td>60</td>\n",
       "      <td>60</td>\n",
       "      <td>0.019231</td>\n",
       "      <td>0.000000</td>\n",
       "      <td>0.8000</td>\n",
       "      <td>2</td>\n",
       "      <td>0</td>\n",
       "    </tr>\n",
       "    <tr>\n",
       "      <th>4519318</th>\n",
       "      <td>2020-02-29 23:59:14</td>\n",
       "      <td>7</td>\n",
       "      <td>113</td>\n",
       "      <td>out</td>\n",
       "      <td>0</td>\n",
       "      <td>0</td>\n",
       "      <td>1</td>\n",
       "      <td>0</td>\n",
       "      <td>0</td>\n",
       "      <td>0</td>\n",
       "      <td>0</td>\n",
       "      <td>0</td>\n",
       "      <td>0.000000</td>\n",
       "      <td>0.022727</td>\n",
       "      <td>0.0000</td>\n",
       "      <td>1</td>\n",
       "      <td>1</td>\n",
       "    </tr>\n",
       "    <tr>\n",
       "      <th>4519319</th>\n",
       "      <td>2020-02-29 23:59:14</td>\n",
       "      <td>7</td>\n",
       "      <td>114</td>\n",
       "      <td>out</td>\n",
       "      <td>1</td>\n",
       "      <td>1</td>\n",
       "      <td>0</td>\n",
       "      <td>0</td>\n",
       "      <td>51</td>\n",
       "      <td>51</td>\n",
       "      <td>52</td>\n",
       "      <td>52</td>\n",
       "      <td>0.019231</td>\n",
       "      <td>0.000000</td>\n",
       "      <td>0.6375</td>\n",
       "      <td>0</td>\n",
       "      <td>0</td>\n",
       "    </tr>\n",
       "  </tbody>\n",
       "</table>\n",
       "<p>4519320 rows × 17 columns</p>\n",
       "</div>"
      ],
      "text/plain": [
       "                   datetime  road_number   km direction  all_units  \\\n",
       "0       2020-02-01 00:00:34            7    0       out         10   \n",
       "1       2020-02-01 00:00:34            7    1       out          5   \n",
       "2       2020-02-01 00:00:34            7    2       out          3   \n",
       "3       2020-02-01 00:00:34            7    4       out          0   \n",
       "4       2020-02-01 00:00:34            7    6       out          2   \n",
       "...                     ...          ...  ...       ...        ...   \n",
       "4519315 2020-02-29 23:59:14            7  108       out          2   \n",
       "4519316 2020-02-29 23:59:14            7  109       out          1   \n",
       "4519317 2020-02-29 23:59:14            7  111       out          1   \n",
       "4519318 2020-02-29 23:59:14            7  113       out          0   \n",
       "4519319 2020-02-29 23:59:14            7  114       out          1   \n",
       "\n",
       "         inflow_units  outflow_unit  samecell_units  avg_speed  max_speed  \\\n",
       "0                   4             7               6         60        105   \n",
       "1                   5             3               0         69         84   \n",
       "2                   3             2               0         79         98   \n",
       "3                   0             1               0          0          0   \n",
       "4                   2             1               0         68         75   \n",
       "...               ...           ...             ...        ...        ...   \n",
       "4519315             2             2               0         38         52   \n",
       "4519316             1             3               0         36         36   \n",
       "4519317             1             0               0         64         64   \n",
       "4519318             0             1               0          0          0   \n",
       "4519319             1             0               0         51         51   \n",
       "\n",
       "         avg_traveltime  max_traveltime  inflow_units_N  outflow_units_N  \\\n",
       "0                     0               0        0.076923         0.159091   \n",
       "1                   108             180        0.096154         0.068182   \n",
       "2                    59              60        0.057692         0.045455   \n",
       "3                     0               0        0.000000         0.022727   \n",
       "4                    64              86        0.038462         0.022727   \n",
       "...                 ...             ...             ...              ...   \n",
       "4519315              68              76        0.038462         0.045455   \n",
       "4519316              60              60        0.019231         0.068182   \n",
       "4519317              60              60        0.019231         0.000000   \n",
       "4519318               0               0        0.000000         0.022727   \n",
       "4519319              52              52        0.019231         0.000000   \n",
       "\n",
       "         avg_speed_N  cluster  label  \n",
       "0             0.7500        0      0  \n",
       "1             0.8625        2      0  \n",
       "2             0.9875        2      0  \n",
       "3             0.0000        1      1  \n",
       "4             0.8500        2      0  \n",
       "...              ...      ...    ...  \n",
       "4519315       0.4750        4      1  \n",
       "4519316       0.4500        4      1  \n",
       "4519317       0.8000        2      0  \n",
       "4519318       0.0000        1      1  \n",
       "4519319       0.6375        0      0  \n",
       "\n",
       "[4519320 rows x 17 columns]"
      ]
     },
     "execution_count": 2,
     "metadata": {},
     "output_type": "execute_result"
    }
   ],
   "source": [
    "road = 7\n",
    "direction = \"out\"\n",
    "df = pd.read_csv(\n",
    "    f\"../dataset/cluster/2020-02-road{road}-{direction}-5cluster.csv\", parse_dates=[\"datetime\"])\n",
    "df['label'] = df['cluster'].apply(lambda row: 1 if row == 4 or row == 1 else 0)\n",
    "df\n"
   ]
  },
  {
   "cell_type": "code",
   "execution_count": 3,
   "metadata": {},
   "outputs": [
    {
     "data": {
      "text/plain": [
       "datetime           2020-02-29 23:59:14\n",
       "road_number                          7\n",
       "km                                 124\n",
       "direction                          out\n",
       "all_units                           78\n",
       "inflow_units                        52\n",
       "outflow_unit                        44\n",
       "samecell_units                      60\n",
       "avg_speed                           80\n",
       "max_speed                          212\n",
       "avg_traveltime                     990\n",
       "max_traveltime                     998\n",
       "inflow_units_N                     1.0\n",
       "outflow_units_N                    1.0\n",
       "avg_speed_N                        1.0\n",
       "cluster                              4\n",
       "label                                1\n",
       "dtype: object"
      ]
     },
     "execution_count": 3,
     "metadata": {},
     "output_type": "execute_result"
    }
   ],
   "source": [
    "df.max(axis=0)"
   ]
  },
  {
   "cell_type": "code",
   "execution_count": 4,
   "metadata": {},
   "outputs": [],
   "source": [
    "df_corr = df.filter(['all_units','inflow_units','outflow_unit','samecell_units','avg_speed','max_speed','avg_traveltime','max_traveltime','cluster','label'],axis=1)\n",
    "corr = df_corr.corr()"
   ]
  },
  {
   "cell_type": "code",
   "execution_count": 5,
   "metadata": {},
   "outputs": [
    {
     "data": {
      "text/plain": [
       "<AxesSubplot:>"
      ]
     },
     "execution_count": 5,
     "metadata": {},
     "output_type": "execute_result"
    },
    {
     "data": {
      "image/png": "[encoded data removed]",
      "text/plain": [
       "<Figure size 432x288 with 2 Axes>"
      ]
     },
     "metadata": {
      "needs_background": "light"
     },
     "output_type": "display_data"
    }
   ],
   "source": [
    "sns.heatmap(corr, vmin=0, vmax=1, annot=True)\n"
   ]
  },
  {
   "cell_type": "code",
   "execution_count": 6,
   "metadata": {},
   "outputs": [
    {
     "data": {
      "text/plain": [
       "['all_units',\n",
       " 'inflow_units',\n",
       " 'avg_speed',\n",
       " 'max_speed',\n",
       " 'avg_traveltime',\n",
       " 'max_traveltime']"
      ]
     },
     "execution_count": 6,
     "metadata": {},
     "output_type": "execute_result"
    }
   ],
   "source": [
    "num_cols = ['all_units', 'inflow_units',\n",
    "            'avg_speed', 'max_speed',\n",
    "            'avg_traveltime',\"max_traveltime\"]\n",
    "num_cols"
   ]
  },
  {
   "cell_type": "code",
   "execution_count": 7,
   "metadata": {},
   "outputs": [],
   "source": [
    "X=df[num_cols]\n",
    "y=df['cluster']"
   ]
  },
  {
   "cell_type": "code",
   "execution_count": 8,
   "metadata": {},
   "outputs": [],
   "source": [
    "x_train, x_test, y_train, y_test = train_test_split(X, y, test_size=0.33, random_state=42)"
   ]
  },
  {
   "cell_type": "code",
   "execution_count": 9,
   "metadata": {},
   "outputs": [
    {
     "data": {
      "text/plain": [
       "DecisionTreeClassifier()"
      ]
     },
     "execution_count": 9,
     "metadata": {},
     "output_type": "execute_result"
    }
   ],
   "source": [
    "tree = DecisionTreeClassifier()\n",
    "tree.fit(x_train, y_train)"
   ]
  },
  {
   "cell_type": "code",
   "execution_count": 10,
   "metadata": {},
   "outputs": [],
   "source": [
    "y_pred = tree.predict(x_test)"
   ]
  },
  {
   "cell_type": "code",
   "execution_count": 11,
   "metadata": {},
   "outputs": [
    {
     "name": "stdout",
     "output_type": "stream",
     "text": [
      "              precision    recall  f1-score   support\n",
      "\n",
      "           0       0.92      0.93      0.92    529410\n",
      "           1       1.00      1.00      1.00    158386\n",
      "           2       0.95      0.96      0.95    495543\n",
      "           3       0.64      0.61      0.62    172501\n",
      "           4       0.96      0.95      0.96    135536\n",
      "\n",
      "    accuracy                           0.91   1491376\n",
      "   macro avg       0.89      0.89      0.89   1491376\n",
      "weighted avg       0.91      0.91      0.91   1491376\n",
      "\n"
     ]
    }
   ],
   "source": [
    "print(classification_report(y_test,y_pred))"
   ]
  },
  {
   "cell_type": "code",
   "execution_count": 12,
   "metadata": {},
   "outputs": [
    {
     "name": "stdout",
     "output_type": "stream",
     "text": [
      "0.9102707834912188\n"
     ]
    }
   ],
   "source": [
    "print(accuracy_score(y_test, y_pred))"
   ]
  },
  {
   "cell_type": "code",
   "execution_count": 13,
   "metadata": {},
   "outputs": [
    {
     "data": {
      "text/plain": [
       "array([[491460,      0,    997,  35376,   1577],\n",
       "       [     0, 158181,      0,      0,    205],\n",
       "       [  1003,      0, 473776,  20764,      0],\n",
       "       [ 40904,      0,  22864, 105030,   3703],\n",
       "       [  2505,    215,      0,   3707, 129109]], dtype=int64)"
      ]
     },
     "execution_count": 13,
     "metadata": {},
     "output_type": "execute_result"
    }
   ],
   "source": [
    "confusion_matrix(y_test, y_pred)"
   ]
  },
  {
   "cell_type": "code",
   "execution_count": 14,
   "metadata": {},
   "outputs": [],
   "source": [
    "conf_matrix = confusion_matrix(y_test, y_pred)"
   ]
  },
  {
   "cell_type": "code",
   "execution_count": 15,
   "metadata": {},
   "outputs": [
    {
     "data": {
      "image/png": "[encoded data removed]",
      "text/plain": [
       "<Figure size 432x432 with 1 Axes>"
      ]
     },
     "metadata": {
      "needs_background": "light"
     },
     "output_type": "display_data"
    }
   ],
   "source": [
    "from mlxtend.plotting import plot_confusion_matrix\n",
    "fig, ax = plot_confusion_matrix(conf_mat=conf_matrix, figsize=(6, 6), cmap=plt.cm.Greens)\n",
    "plt.xlabel('Predictions', fontsize=18)\n",
    "plt.ylabel('Actuals', fontsize=18)\n",
    "plt.title('Confusion Matrix', fontsize=18)\n",
    "plt.show()"
   ]
  },
  {
   "cell_type": "code",
   "execution_count": 16,
   "metadata": {},
   "outputs": [],
   "source": [
    "# import joblib\n",
    "# joblib.dump(tree, f\"DecisionTreeModelRoad{road}{direction}.joblib\")\n"
   ]
  }
 ],
 "metadata": {
  "interpreter": {
   "hash": "a57c8d2945e386d0fc4a7ee8b43851c6d533e062934f1b271df6e812f3c42cd1"
  },
  "kernelspec": {
   "display_name": "Python 3.7.9 ('venv': venv)",
   "language": "python",
   "name": "python3"
  },
  "language_info": {
   "codemirror_mode": {
    "name": "ipython",
    "version": 3
   },
   "file_extension": ".py",
   "mimetype": "text/x-python",
   "name": "python",
   "nbconvert_exporter": "python",
   "pygments_lexer": "ipython3",
   "version": "3.7.9"
  },
  "orig_nbformat": 4
 },
 "nbformat": 4,
 "nbformat_minor": 2
}
