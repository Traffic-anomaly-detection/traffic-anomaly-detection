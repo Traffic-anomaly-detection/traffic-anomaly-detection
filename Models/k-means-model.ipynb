{
 "cells": [
  {
   "cell_type": "code",
   "execution_count": 17,
   "metadata": {},
   "outputs": [],
   "source": [
    "import pandas as pd\n",
    "from tqdm.auto import tqdm\n",
    "from sklearn.cluster import KMeans\n",
    "import numpy as np\n",
    "import matplotlib.pyplot as plt\n",
    "from scipy.spatial.distance import cdist\n",
    "from sklearn import metrics\n",
    "from sklearn.datasets import make_blobs\n",
    "from sklearn.cluster import KMeans\n",
    "from sklearn.metrics import silhouette_score\n",
    "from mpl_toolkits.mplot3d import Axes3D\n",
    "import seaborn as sns\n",
    "import plotly.graph_objs as go\n",
    "import math\n",
    "from sklearn.model_selection import train_test_split\n",
    "from sklearn.tree import DecisionTreeClassifier\n",
    "from sklearn.model_selection import GridSearchCV\n",
    "tqdm.pandas()"
   ]
  },
  {
   "cell_type": "code",
   "execution_count": 2,
   "metadata": {},
   "outputs": [
    {
     "data": {
      "text/html": [
       "<div>\n",
       "<style scoped>\n",
       "    .dataframe tbody tr th:only-of-type {\n",
       "        vertical-align: middle;\n",
       "    }\n",
       "\n",
       "    .dataframe tbody tr th {\n",
       "        vertical-align: top;\n",
       "    }\n",
       "\n",
       "    .dataframe thead th {\n",
       "        text-align: right;\n",
       "    }\n",
       "</style>\n",
       "<table border=\"1\" class=\"dataframe\">\n",
       "  <thead>\n",
       "    <tr style=\"text-align: right;\">\n",
       "      <th></th>\n",
       "      <th>datetime</th>\n",
       "      <th>road_number</th>\n",
       "      <th>km</th>\n",
       "      <th>direction</th>\n",
       "      <th>all_units</th>\n",
       "      <th>inflow_units</th>\n",
       "      <th>outflow_unit</th>\n",
       "      <th>samecell_units</th>\n",
       "      <th>avg_speed</th>\n",
       "      <th>max_speed</th>\n",
       "      <th>avg_traveltime</th>\n",
       "      <th>max_traveltime</th>\n",
       "      <th>inflow_units_N</th>\n",
       "      <th>outflow_units_N</th>\n",
       "      <th>avg_speed_N</th>\n",
       "      <th>cluster</th>\n",
       "    </tr>\n",
       "  </thead>\n",
       "  <tbody>\n",
       "    <tr>\n",
       "      <th>0</th>\n",
       "      <td>2020-02-01 00:00:34</td>\n",
       "      <td>1</td>\n",
       "      <td>19</td>\n",
       "      <td>in</td>\n",
       "      <td>0</td>\n",
       "      <td>0</td>\n",
       "      <td>1</td>\n",
       "      <td>0</td>\n",
       "      <td>0</td>\n",
       "      <td>0</td>\n",
       "      <td>0</td>\n",
       "      <td>0</td>\n",
       "      <td>0.000000</td>\n",
       "      <td>0.022727</td>\n",
       "      <td>0.0000</td>\n",
       "      <td>1</td>\n",
       "    </tr>\n",
       "    <tr>\n",
       "      <th>1</th>\n",
       "      <td>2020-02-01 00:00:34</td>\n",
       "      <td>1</td>\n",
       "      <td>26</td>\n",
       "      <td>in</td>\n",
       "      <td>1</td>\n",
       "      <td>0</td>\n",
       "      <td>0</td>\n",
       "      <td>1</td>\n",
       "      <td>71</td>\n",
       "      <td>71</td>\n",
       "      <td>0</td>\n",
       "      <td>0</td>\n",
       "      <td>0.000000</td>\n",
       "      <td>0.000000</td>\n",
       "      <td>0.8875</td>\n",
       "      <td>0</td>\n",
       "    </tr>\n",
       "    <tr>\n",
       "      <th>2</th>\n",
       "      <td>2020-02-01 00:00:34</td>\n",
       "      <td>1</td>\n",
       "      <td>28</td>\n",
       "      <td>in</td>\n",
       "      <td>3</td>\n",
       "      <td>1</td>\n",
       "      <td>1</td>\n",
       "      <td>2</td>\n",
       "      <td>41</td>\n",
       "      <td>48</td>\n",
       "      <td>0</td>\n",
       "      <td>0</td>\n",
       "      <td>0.021739</td>\n",
       "      <td>0.022727</td>\n",
       "      <td>0.5125</td>\n",
       "      <td>2</td>\n",
       "    </tr>\n",
       "    <tr>\n",
       "      <th>3</th>\n",
       "      <td>2020-02-01 00:00:34</td>\n",
       "      <td>1</td>\n",
       "      <td>29</td>\n",
       "      <td>in</td>\n",
       "      <td>3</td>\n",
       "      <td>3</td>\n",
       "      <td>3</td>\n",
       "      <td>0</td>\n",
       "      <td>75</td>\n",
       "      <td>108</td>\n",
       "      <td>0</td>\n",
       "      <td>0</td>\n",
       "      <td>0.065217</td>\n",
       "      <td>0.068182</td>\n",
       "      <td>0.9375</td>\n",
       "      <td>0</td>\n",
       "    </tr>\n",
       "    <tr>\n",
       "      <th>4</th>\n",
       "      <td>2020-02-01 00:00:34</td>\n",
       "      <td>1</td>\n",
       "      <td>30</td>\n",
       "      <td>in</td>\n",
       "      <td>5</td>\n",
       "      <td>5</td>\n",
       "      <td>3</td>\n",
       "      <td>0</td>\n",
       "      <td>32</td>\n",
       "      <td>56</td>\n",
       "      <td>62</td>\n",
       "      <td>66</td>\n",
       "      <td>0.108696</td>\n",
       "      <td>0.068182</td>\n",
       "      <td>0.4000</td>\n",
       "      <td>2</td>\n",
       "    </tr>\n",
       "    <tr>\n",
       "      <th>...</th>\n",
       "      <td>...</td>\n",
       "      <td>...</td>\n",
       "      <td>...</td>\n",
       "      <td>...</td>\n",
       "      <td>...</td>\n",
       "      <td>...</td>\n",
       "      <td>...</td>\n",
       "      <td>...</td>\n",
       "      <td>...</td>\n",
       "      <td>...</td>\n",
       "      <td>...</td>\n",
       "      <td>...</td>\n",
       "      <td>...</td>\n",
       "      <td>...</td>\n",
       "      <td>...</td>\n",
       "      <td>...</td>\n",
       "    </tr>\n",
       "    <tr>\n",
       "      <th>22694507</th>\n",
       "      <td>2020-02-29 23:59:14</td>\n",
       "      <td>1</td>\n",
       "      <td>939</td>\n",
       "      <td>in</td>\n",
       "      <td>1</td>\n",
       "      <td>0</td>\n",
       "      <td>0</td>\n",
       "      <td>1</td>\n",
       "      <td>20</td>\n",
       "      <td>20</td>\n",
       "      <td>0</td>\n",
       "      <td>0</td>\n",
       "      <td>0.000000</td>\n",
       "      <td>0.000000</td>\n",
       "      <td>0.2500</td>\n",
       "      <td>2</td>\n",
       "    </tr>\n",
       "    <tr>\n",
       "      <th>22694508</th>\n",
       "      <td>2020-02-29 23:59:14</td>\n",
       "      <td>1</td>\n",
       "      <td>941</td>\n",
       "      <td>in</td>\n",
       "      <td>0</td>\n",
       "      <td>0</td>\n",
       "      <td>1</td>\n",
       "      <td>0</td>\n",
       "      <td>0</td>\n",
       "      <td>0</td>\n",
       "      <td>0</td>\n",
       "      <td>0</td>\n",
       "      <td>0.000000</td>\n",
       "      <td>0.022727</td>\n",
       "      <td>0.0000</td>\n",
       "      <td>1</td>\n",
       "    </tr>\n",
       "    <tr>\n",
       "      <th>22694509</th>\n",
       "      <td>2020-02-29 23:59:14</td>\n",
       "      <td>1</td>\n",
       "      <td>959</td>\n",
       "      <td>in</td>\n",
       "      <td>1</td>\n",
       "      <td>1</td>\n",
       "      <td>0</td>\n",
       "      <td>0</td>\n",
       "      <td>47</td>\n",
       "      <td>47</td>\n",
       "      <td>60</td>\n",
       "      <td>60</td>\n",
       "      <td>0.021739</td>\n",
       "      <td>0.000000</td>\n",
       "      <td>0.5875</td>\n",
       "      <td>4</td>\n",
       "    </tr>\n",
       "    <tr>\n",
       "      <th>22694510</th>\n",
       "      <td>2020-02-29 23:59:14</td>\n",
       "      <td>1</td>\n",
       "      <td>960</td>\n",
       "      <td>in</td>\n",
       "      <td>0</td>\n",
       "      <td>0</td>\n",
       "      <td>1</td>\n",
       "      <td>0</td>\n",
       "      <td>0</td>\n",
       "      <td>0</td>\n",
       "      <td>0</td>\n",
       "      <td>0</td>\n",
       "      <td>0.000000</td>\n",
       "      <td>0.022727</td>\n",
       "      <td>0.0000</td>\n",
       "      <td>1</td>\n",
       "    </tr>\n",
       "    <tr>\n",
       "      <th>22694511</th>\n",
       "      <td>2020-02-29 23:59:14</td>\n",
       "      <td>1</td>\n",
       "      <td>968</td>\n",
       "      <td>in</td>\n",
       "      <td>1</td>\n",
       "      <td>0</td>\n",
       "      <td>0</td>\n",
       "      <td>1</td>\n",
       "      <td>65</td>\n",
       "      <td>65</td>\n",
       "      <td>0</td>\n",
       "      <td>0</td>\n",
       "      <td>0.000000</td>\n",
       "      <td>0.000000</td>\n",
       "      <td>0.8125</td>\n",
       "      <td>0</td>\n",
       "    </tr>\n",
       "  </tbody>\n",
       "</table>\n",
       "<p>22694512 rows × 16 columns</p>\n",
       "</div>"
      ],
      "text/plain": [
       "                    datetime  road_number   km direction  all_units  \\\n",
       "0        2020-02-01 00:00:34            1   19        in          0   \n",
       "1        2020-02-01 00:00:34            1   26        in          1   \n",
       "2        2020-02-01 00:00:34            1   28        in          3   \n",
       "3        2020-02-01 00:00:34            1   29        in          3   \n",
       "4        2020-02-01 00:00:34            1   30        in          5   \n",
       "...                      ...          ...  ...       ...        ...   \n",
       "22694507 2020-02-29 23:59:14            1  939        in          1   \n",
       "22694508 2020-02-29 23:59:14            1  941        in          0   \n",
       "22694509 2020-02-29 23:59:14            1  959        in          1   \n",
       "22694510 2020-02-29 23:59:14            1  960        in          0   \n",
       "22694511 2020-02-29 23:59:14            1  968        in          1   \n",
       "\n",
       "          inflow_units  outflow_unit  samecell_units  avg_speed  max_speed  \\\n",
       "0                    0             1               0          0          0   \n",
       "1                    0             0               1         71         71   \n",
       "2                    1             1               2         41         48   \n",
       "3                    3             3               0         75        108   \n",
       "4                    5             3               0         32         56   \n",
       "...                ...           ...             ...        ...        ...   \n",
       "22694507             0             0               1         20         20   \n",
       "22694508             0             1               0          0          0   \n",
       "22694509             1             0               0         47         47   \n",
       "22694510             0             1               0          0          0   \n",
       "22694511             0             0               1         65         65   \n",
       "\n",
       "          avg_traveltime  max_traveltime  inflow_units_N  outflow_units_N  \\\n",
       "0                      0               0        0.000000         0.022727   \n",
       "1                      0               0        0.000000         0.000000   \n",
       "2                      0               0        0.021739         0.022727   \n",
       "3                      0               0        0.065217         0.068182   \n",
       "4                     62              66        0.108696         0.068182   \n",
       "...                  ...             ...             ...              ...   \n",
       "22694507               0               0        0.000000         0.000000   \n",
       "22694508               0               0        0.000000         0.022727   \n",
       "22694509              60              60        0.021739         0.000000   \n",
       "22694510               0               0        0.000000         0.022727   \n",
       "22694511               0               0        0.000000         0.000000   \n",
       "\n",
       "          avg_speed_N  cluster  \n",
       "0              0.0000        1  \n",
       "1              0.8875        0  \n",
       "2              0.5125        2  \n",
       "3              0.9375        0  \n",
       "4              0.4000        2  \n",
       "...               ...      ...  \n",
       "22694507       0.2500        2  \n",
       "22694508       0.0000        1  \n",
       "22694509       0.5875        4  \n",
       "22694510       0.0000        1  \n",
       "22694511       0.8125        0  \n",
       "\n",
       "[22694512 rows x 16 columns]"
      ]
     },
     "execution_count": 2,
     "metadata": {},
     "output_type": "execute_result"
    }
   ],
   "source": [
    "df = pd.read_csv('../dataset/cluster/2020-02-road1-in-5cluster.csv',parse_dates=[\"datetime\"])\n",
    "df"
   ]
  },
  {
   "cell_type": "code",
   "execution_count": 5,
   "metadata": {},
   "outputs": [],
   "source": [
    "df_corr = df.filter(['all_units','inflow_units','outflow_unit','samecell_units','avg_speed','max_speed','avg_traveltime','max_traveltime','cluster'],axis=1)\n",
    "corr = df_corr.corr()"
   ]
  },
  {
   "cell_type": "code",
   "execution_count": 7,
   "metadata": {},
   "outputs": [
    {
     "data": {
      "text/plain": [
       "<AxesSubplot:>"
      ]
     },
     "execution_count": 7,
     "metadata": {},
     "output_type": "execute_result"
    },
    {
     "data": {
      "image/png": "[encoded data removed]",
      "text/plain": [
       "<Figure size 432x288 with 2 Axes>"
      ]
     },
     "metadata": {
      "needs_background": "light"
     },
     "output_type": "display_data"
    }
   ],
   "source": [
    "sns.heatmap(corr, vmin=0, vmax=1, annot=True)\n"
   ]
  },
  {
   "cell_type": "code",
   "execution_count": 9,
   "metadata": {},
   "outputs": [],
   "source": [
    "d_cols = ['all_units','inflow_units','avg_traveltime','max_traveltime']"
   ]
  },
  {
   "cell_type": "code",
   "execution_count": 10,
   "metadata": {},
   "outputs": [],
   "source": [
    "x = df[d_cols]\n",
    "y = df['cluster']"
   ]
  },
  {
   "cell_type": "code",
   "execution_count": 15,
   "metadata": {},
   "outputs": [],
   "source": [
    "x_train, x_test, y_train, y_test = train_test_split(x, y, test_size=0.33, random_state=42)"
   ]
  },
  {
   "cell_type": "code",
   "execution_count": 18,
   "metadata": {},
   "outputs": [
    {
     "data": {
      "text/plain": [
       "DecisionTreeClassifier()"
      ]
     },
     "execution_count": 18,
     "metadata": {},
     "output_type": "execute_result"
    }
   ],
   "source": [
    "tree = DecisionTreeClassifier()\n",
    "tree.fit(x_train, y_train)"
   ]
  },
  {
   "cell_type": "code",
   "execution_count": 19,
   "metadata": {},
   "outputs": [],
   "source": [
    "y_pred = tree.predict(x_test)"
   ]
  },
  {
   "cell_type": "code",
   "execution_count": 20,
   "metadata": {},
   "outputs": [
    {
     "data": {
      "text/plain": [
       "1    2165092\n",
       "4    2108711\n",
       "0    1946079\n",
       "2     745093\n",
       "3     524214\n",
       "Name: cluster, dtype: int64"
      ]
     },
     "execution_count": 20,
     "metadata": {},
     "output_type": "execute_result"
    }
   ],
   "source": [
    "y_test.value_counts()"
   ]
  },
  {
   "cell_type": "code",
   "execution_count": 22,
   "metadata": {},
   "outputs": [
    {
     "name": "stdout",
     "output_type": "stream",
     "text": [
      "0.6335216002694016\n"
     ]
    }
   ],
   "source": [
    "from sklearn.metrics import accuracy_score,f1_score\n",
    "print(accuracy_score(y_test, y_pred))"
   ]
  }
 ],
 "metadata": {
  "interpreter": {
   "hash": "5a165f8bddcacbf8b11919ff813fc203fdeb727bd013304165015355058c53a7"
  },
  "kernelspec": {
   "display_name": "Python 3.7.9 64-bit",
   "language": "python",
   "name": "python3"
  },
  "language_info": {
   "codemirror_mode": {
    "name": "ipython",
    "version": 3
   },
   "file_extension": ".py",
   "mimetype": "text/x-python",
   "name": "python",
   "nbconvert_exporter": "python",
   "pygments_lexer": "ipython3",
   "version": "3.7.9"
  },
  "orig_nbformat": 4
 },
 "nbformat": 4,
 "nbformat_minor": 2
}
