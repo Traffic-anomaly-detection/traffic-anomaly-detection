{
 "cells": [
  {
   "cell_type": "code",
   "execution_count": 1,
   "metadata": {},
   "outputs": [],
   "source": [
    "import pandas as pd\n",
    "import numpy as np\n",
    "import seaborn as sns\n",
    "import matplotlib.pyplot as plt\n",
    "from sklearn import preprocessing\n",
    "from sklearn.model_selection import train_test_split\n",
    "from sklearn.tree import DecisionTreeClassifier\n",
    "from sklearn.tree import export_graphviz\n",
    "from sklearn.tree import export_text\n",
    "from sklearn.metrics import classification_report,confusion_matrix\n",
    "from sklearn.model_selection import GridSearchCV\n",
    "from sklearn.preprocessing import StandardScaler\n",
    "from sklearn.metrics import accuracy_score,f1_score\n"
   ]
  },
  {
   "cell_type": "code",
   "execution_count": 2,
   "metadata": {},
   "outputs": [
    {
     "data": {
      "text/html": [
       "<div>\n",
       "<style scoped>\n",
       "    .dataframe tbody tr th:only-of-type {\n",
       "        vertical-align: middle;\n",
       "    }\n",
       "\n",
       "    .dataframe tbody tr th {\n",
       "        vertical-align: top;\n",
       "    }\n",
       "\n",
       "    .dataframe thead th {\n",
       "        text-align: right;\n",
       "    }\n",
       "</style>\n",
       "<table border=\"1\" class=\"dataframe\">\n",
       "  <thead>\n",
       "    <tr style=\"text-align: right;\">\n",
       "      <th></th>\n",
       "      <th>datetime</th>\n",
       "      <th>road_number</th>\n",
       "      <th>km</th>\n",
       "      <th>direction</th>\n",
       "      <th>all_units</th>\n",
       "      <th>inflow_units</th>\n",
       "      <th>outflow_unit</th>\n",
       "      <th>samecell_units</th>\n",
       "      <th>avg_speed</th>\n",
       "      <th>max_speed</th>\n",
       "      <th>avg_traveltime</th>\n",
       "      <th>max_traveltime</th>\n",
       "      <th>inflow_units_N</th>\n",
       "      <th>outflow_units_N</th>\n",
       "      <th>avg_speed_N</th>\n",
       "      <th>cluster</th>\n",
       "      <th>label</th>\n",
       "    </tr>\n",
       "  </thead>\n",
       "  <tbody>\n",
       "    <tr>\n",
       "      <th>0</th>\n",
       "      <td>2020-02-01 00:00:34</td>\n",
       "      <td>7</td>\n",
       "      <td>0</td>\n",
       "      <td>out</td>\n",
       "      <td>10</td>\n",
       "      <td>4</td>\n",
       "      <td>7</td>\n",
       "      <td>6</td>\n",
       "      <td>60</td>\n",
       "      <td>105</td>\n",
       "      <td>0</td>\n",
       "      <td>0</td>\n",
       "      <td>0.090909</td>\n",
       "      <td>0.194444</td>\n",
       "      <td>0.7500</td>\n",
       "      <td>2</td>\n",
       "      <td>1</td>\n",
       "    </tr>\n",
       "    <tr>\n",
       "      <th>1</th>\n",
       "      <td>2020-02-01 00:00:34</td>\n",
       "      <td>7</td>\n",
       "      <td>1</td>\n",
       "      <td>out</td>\n",
       "      <td>5</td>\n",
       "      <td>5</td>\n",
       "      <td>3</td>\n",
       "      <td>0</td>\n",
       "      <td>69</td>\n",
       "      <td>84</td>\n",
       "      <td>108</td>\n",
       "      <td>180</td>\n",
       "      <td>0.113636</td>\n",
       "      <td>0.083333</td>\n",
       "      <td>0.8625</td>\n",
       "      <td>3</td>\n",
       "      <td>0</td>\n",
       "    </tr>\n",
       "    <tr>\n",
       "      <th>2</th>\n",
       "      <td>2020-02-01 00:00:34</td>\n",
       "      <td>7</td>\n",
       "      <td>2</td>\n",
       "      <td>out</td>\n",
       "      <td>3</td>\n",
       "      <td>3</td>\n",
       "      <td>2</td>\n",
       "      <td>0</td>\n",
       "      <td>79</td>\n",
       "      <td>98</td>\n",
       "      <td>59</td>\n",
       "      <td>60</td>\n",
       "      <td>0.068182</td>\n",
       "      <td>0.055556</td>\n",
       "      <td>0.9875</td>\n",
       "      <td>3</td>\n",
       "      <td>0</td>\n",
       "    </tr>\n",
       "    <tr>\n",
       "      <th>3</th>\n",
       "      <td>2020-02-01 00:00:34</td>\n",
       "      <td>7</td>\n",
       "      <td>4</td>\n",
       "      <td>out</td>\n",
       "      <td>0</td>\n",
       "      <td>0</td>\n",
       "      <td>1</td>\n",
       "      <td>0</td>\n",
       "      <td>0</td>\n",
       "      <td>0</td>\n",
       "      <td>0</td>\n",
       "      <td>0</td>\n",
       "      <td>0.000000</td>\n",
       "      <td>0.027778</td>\n",
       "      <td>0.0000</td>\n",
       "      <td>1</td>\n",
       "      <td>1</td>\n",
       "    </tr>\n",
       "    <tr>\n",
       "      <th>4</th>\n",
       "      <td>2020-02-01 00:00:34</td>\n",
       "      <td>7</td>\n",
       "      <td>6</td>\n",
       "      <td>out</td>\n",
       "      <td>2</td>\n",
       "      <td>2</td>\n",
       "      <td>1</td>\n",
       "      <td>0</td>\n",
       "      <td>68</td>\n",
       "      <td>75</td>\n",
       "      <td>64</td>\n",
       "      <td>86</td>\n",
       "      <td>0.045455</td>\n",
       "      <td>0.027778</td>\n",
       "      <td>0.8500</td>\n",
       "      <td>3</td>\n",
       "      <td>0</td>\n",
       "    </tr>\n",
       "    <tr>\n",
       "      <th>...</th>\n",
       "      <td>...</td>\n",
       "      <td>...</td>\n",
       "      <td>...</td>\n",
       "      <td>...</td>\n",
       "      <td>...</td>\n",
       "      <td>...</td>\n",
       "      <td>...</td>\n",
       "      <td>...</td>\n",
       "      <td>...</td>\n",
       "      <td>...</td>\n",
       "      <td>...</td>\n",
       "      <td>...</td>\n",
       "      <td>...</td>\n",
       "      <td>...</td>\n",
       "      <td>...</td>\n",
       "      <td>...</td>\n",
       "      <td>...</td>\n",
       "    </tr>\n",
       "    <tr>\n",
       "      <th>455371</th>\n",
       "      <td>2020-02-04 01:01:43</td>\n",
       "      <td>7</td>\n",
       "      <td>23</td>\n",
       "      <td>out</td>\n",
       "      <td>1</td>\n",
       "      <td>1</td>\n",
       "      <td>0</td>\n",
       "      <td>0</td>\n",
       "      <td>48</td>\n",
       "      <td>48</td>\n",
       "      <td>0</td>\n",
       "      <td>0</td>\n",
       "      <td>0.022727</td>\n",
       "      <td>0.000000</td>\n",
       "      <td>0.6000</td>\n",
       "      <td>2</td>\n",
       "      <td>1</td>\n",
       "    </tr>\n",
       "    <tr>\n",
       "      <th>455372</th>\n",
       "      <td>2020-02-04 01:01:43</td>\n",
       "      <td>7</td>\n",
       "      <td>26</td>\n",
       "      <td>out</td>\n",
       "      <td>0</td>\n",
       "      <td>0</td>\n",
       "      <td>2</td>\n",
       "      <td>0</td>\n",
       "      <td>0</td>\n",
       "      <td>0</td>\n",
       "      <td>0</td>\n",
       "      <td>0</td>\n",
       "      <td>0.000000</td>\n",
       "      <td>0.055556</td>\n",
       "      <td>0.0000</td>\n",
       "      <td>1</td>\n",
       "      <td>1</td>\n",
       "    </tr>\n",
       "    <tr>\n",
       "      <th>455373</th>\n",
       "      <td>2020-02-04 01:01:43</td>\n",
       "      <td>7</td>\n",
       "      <td>27</td>\n",
       "      <td>out</td>\n",
       "      <td>2</td>\n",
       "      <td>2</td>\n",
       "      <td>1</td>\n",
       "      <td>0</td>\n",
       "      <td>48</td>\n",
       "      <td>52</td>\n",
       "      <td>65</td>\n",
       "      <td>70</td>\n",
       "      <td>0.045455</td>\n",
       "      <td>0.027778</td>\n",
       "      <td>0.6000</td>\n",
       "      <td>2</td>\n",
       "      <td>1</td>\n",
       "    </tr>\n",
       "    <tr>\n",
       "      <th>455374</th>\n",
       "      <td>2020-02-04 01:01:43</td>\n",
       "      <td>7</td>\n",
       "      <td>28</td>\n",
       "      <td>out</td>\n",
       "      <td>1</td>\n",
       "      <td>1</td>\n",
       "      <td>2</td>\n",
       "      <td>0</td>\n",
       "      <td>61</td>\n",
       "      <td>61</td>\n",
       "      <td>61</td>\n",
       "      <td>61</td>\n",
       "      <td>0.022727</td>\n",
       "      <td>0.055556</td>\n",
       "      <td>0.7625</td>\n",
       "      <td>2</td>\n",
       "      <td>1</td>\n",
       "    </tr>\n",
       "    <tr>\n",
       "      <th>455375</th>\n",
       "      <td>2020-02-04 01:01:43</td>\n",
       "      <td>7</td>\n",
       "      <td>29</td>\n",
       "      <td>out</td>\n",
       "      <td>2</td>\n",
       "      <td>2</td>\n",
       "      <td>0</td>\n",
       "      <td>0</td>\n",
       "      <td>76</td>\n",
       "      <td>91</td>\n",
       "      <td>59</td>\n",
       "      <td>60</td>\n",
       "      <td>0.045455</td>\n",
       "      <td>0.000000</td>\n",
       "      <td>0.9500</td>\n",
       "      <td>3</td>\n",
       "      <td>0</td>\n",
       "    </tr>\n",
       "  </tbody>\n",
       "</table>\n",
       "<p>455376 rows × 17 columns</p>\n",
       "</div>"
      ],
      "text/plain": [
       "                  datetime  road_number  km direction  all_units  \\\n",
       "0      2020-02-01 00:00:34            7   0       out         10   \n",
       "1      2020-02-01 00:00:34            7   1       out          5   \n",
       "2      2020-02-01 00:00:34            7   2       out          3   \n",
       "3      2020-02-01 00:00:34            7   4       out          0   \n",
       "4      2020-02-01 00:00:34            7   6       out          2   \n",
       "...                    ...          ...  ..       ...        ...   \n",
       "455371 2020-02-04 01:01:43            7  23       out          1   \n",
       "455372 2020-02-04 01:01:43            7  26       out          0   \n",
       "455373 2020-02-04 01:01:43            7  27       out          2   \n",
       "455374 2020-02-04 01:01:43            7  28       out          1   \n",
       "455375 2020-02-04 01:01:43            7  29       out          2   \n",
       "\n",
       "        inflow_units  outflow_unit  samecell_units  avg_speed  max_speed  \\\n",
       "0                  4             7               6         60        105   \n",
       "1                  5             3               0         69         84   \n",
       "2                  3             2               0         79         98   \n",
       "3                  0             1               0          0          0   \n",
       "4                  2             1               0         68         75   \n",
       "...              ...           ...             ...        ...        ...   \n",
       "455371             1             0               0         48         48   \n",
       "455372             0             2               0          0          0   \n",
       "455373             2             1               0         48         52   \n",
       "455374             1             2               0         61         61   \n",
       "455375             2             0               0         76         91   \n",
       "\n",
       "        avg_traveltime  max_traveltime  inflow_units_N  outflow_units_N  \\\n",
       "0                    0               0        0.090909         0.194444   \n",
       "1                  108             180        0.113636         0.083333   \n",
       "2                   59              60        0.068182         0.055556   \n",
       "3                    0               0        0.000000         0.027778   \n",
       "4                   64              86        0.045455         0.027778   \n",
       "...                ...             ...             ...              ...   \n",
       "455371               0               0        0.022727         0.000000   \n",
       "455372               0               0        0.000000         0.055556   \n",
       "455373              65              70        0.045455         0.027778   \n",
       "455374              61              61        0.022727         0.055556   \n",
       "455375              59              60        0.045455         0.000000   \n",
       "\n",
       "        avg_speed_N  cluster  label  \n",
       "0            0.7500        2      1  \n",
       "1            0.8625        3      0  \n",
       "2            0.9875        3      0  \n",
       "3            0.0000        1      1  \n",
       "4            0.8500        3      0  \n",
       "...             ...      ...    ...  \n",
       "455371       0.6000        2      1  \n",
       "455372       0.0000        1      1  \n",
       "455373       0.6000        2      1  \n",
       "455374       0.7625        2      1  \n",
       "455375       0.9500        3      0  \n",
       "\n",
       "[455376 rows x 17 columns]"
      ]
     },
     "execution_count": 2,
     "metadata": {},
     "output_type": "execute_result"
    }
   ],
   "source": [
    "road = 2\n",
    "direction = \"out\"\n",
    "df = pd.read_csv(\n",
    "    f\"../dataset/cluster/2020-02-road{road}-{direction}-5cluster.csv\", parse_dates=[\"datetime\"])\n",
    "df['label'] = df['cluster'].apply(lambda row: 1 if row == 2 or row == 1 else 0)\n",
    "df\n"
   ]
  },
  {
   "cell_type": "code",
   "execution_count": 3,
   "metadata": {},
   "outputs": [
    {
     "data": {
      "text/plain": [
       "datetime           2020-02-04 01:01:43\n",
       "road_number                          7\n",
       "km                                 124\n",
       "direction                          out\n",
       "all_units                           69\n",
       "inflow_units                        44\n",
       "outflow_unit                        36\n",
       "samecell_units                      46\n",
       "avg_speed                           80\n",
       "max_speed                          162\n",
       "avg_traveltime                     712\n",
       "max_traveltime                     951\n",
       "inflow_units_N                     1.0\n",
       "outflow_units_N                    1.0\n",
       "avg_speed_N                        1.0\n",
       "cluster                              4\n",
       "label                                1\n",
       "dtype: object"
      ]
     },
     "execution_count": 3,
     "metadata": {},
     "output_type": "execute_result"
    }
   ],
   "source": [
    "df.max(axis=0)"
   ]
  },
  {
   "cell_type": "code",
   "execution_count": 4,
   "metadata": {},
   "outputs": [],
   "source": [
    "df_corr = df.filter(['all_units','inflow_units','outflow_unit','samecell_units','avg_speed','max_speed','avg_traveltime','max_traveltime','cluster','label'],axis=1)\n",
    "corr = df_corr.corr()"
   ]
  },
  {
   "cell_type": "code",
   "execution_count": 5,
   "metadata": {},
   "outputs": [
    {
     "data": {
      "text/plain": [
       "<AxesSubplot:>"
      ]
     },
     "execution_count": 5,
     "metadata": {},
     "output_type": "execute_result"
    },
    {
     "data": {
      "image/png": "[encoded data removed]",
      "text/plain": [
       "<Figure size 432x288 with 2 Axes>"
      ]
     },
     "metadata": {
      "needs_background": "light"
     },
     "output_type": "display_data"
    }
   ],
   "source": [
    "sns.heatmap(corr, vmin=0, vmax=1, annot=True)\n"
   ]
  },
  {
   "cell_type": "code",
   "execution_count": 6,
   "metadata": {},
   "outputs": [
    {
     "data": {
      "text/plain": [
       "['all_units',\n",
       " 'inflow_units',\n",
       " 'avg_speed',\n",
       " 'max_speed',\n",
       " 'avg_traveltime',\n",
       " 'max_traveltime']"
      ]
     },
     "execution_count": 6,
     "metadata": {},
     "output_type": "execute_result"
    }
   ],
   "source": [
    "num_cols = ['all_units', 'inflow_units',\n",
    "            'avg_speed', 'max_speed',\n",
    "            'avg_traveltime',\"max_traveltime\"]\n",
    "num_cols"
   ]
  },
  {
   "cell_type": "code",
   "execution_count": 7,
   "metadata": {},
   "outputs": [],
   "source": [
    "X=df[num_cols]\n",
    "y=df['cluster']"
   ]
  },
  {
   "cell_type": "code",
   "execution_count": 8,
   "metadata": {},
   "outputs": [],
   "source": [
    "x_train, x_test, y_train, y_test = train_test_split(X, y, test_size=0.33, random_state=42)"
   ]
  },
  {
   "cell_type": "code",
   "execution_count": 9,
   "metadata": {},
   "outputs": [
    {
     "data": {
      "text/plain": [
       "DecisionTreeClassifier()"
      ]
     },
     "execution_count": 9,
     "metadata": {},
     "output_type": "execute_result"
    }
   ],
   "source": [
    "tree = DecisionTreeClassifier()\n",
    "tree.fit(x_train, y_train)"
   ]
  },
  {
   "cell_type": "code",
   "execution_count": 10,
   "metadata": {},
   "outputs": [],
   "source": [
    "y_pred = tree.predict(x_test)"
   ]
  },
  {
   "cell_type": "code",
   "execution_count": 11,
   "metadata": {},
   "outputs": [
    {
     "name": "stdout",
     "output_type": "stream",
     "text": [
      "              precision    recall  f1-score   support\n",
      "\n",
      "           0       0.55      0.58      0.57     17145\n",
      "           1       1.00      1.00      1.00     18701\n",
      "           2       0.91      0.90      0.90     51060\n",
      "           3       0.93      0.93      0.93     50432\n",
      "           4       0.95      0.94      0.95     12937\n",
      "\n",
      "    accuracy                           0.89    150275\n",
      "   macro avg       0.87      0.87      0.87    150275\n",
      "weighted avg       0.89      0.89      0.89    150275\n",
      "\n"
     ]
    }
   ],
   "source": [
    "print(classification_report(y_test,y_pred))"
   ]
  },
  {
   "cell_type": "code",
   "execution_count": 12,
   "metadata": {},
   "outputs": [
    {
     "name": "stdout",
     "output_type": "stream",
     "text": [
      "0.887685909166528\n"
     ]
    }
   ],
   "source": [
    "print(accuracy_score(y_test, y_pred))"
   ]
  },
  {
   "cell_type": "code",
   "execution_count": 13,
   "metadata": {},
   "outputs": [
    {
     "data": {
      "text/plain": [
       "['DecisionTreeModelRoad2out.joblib']"
      ]
     },
     "execution_count": 13,
     "metadata": {},
     "output_type": "execute_result"
    }
   ],
   "source": [
    "import joblib\n",
    "joblib.dump(tree, f\"DecisionTreeModelRoad{road}{direction}.joblib\")\n"
   ]
  }
 ],
 "metadata": {
  "interpreter": {
   "hash": "a57c8d2945e386d0fc4a7ee8b43851c6d533e062934f1b271df6e812f3c42cd1"
  },
  "kernelspec": {
   "display_name": "Python 3.7.9 ('venv': venv)",
   "language": "python",
   "name": "python3"
  },
  "language_info": {
   "codemirror_mode": {
    "name": "ipython",
    "version": 3
   },
   "file_extension": ".py",
   "mimetype": "text/x-python",
   "name": "python",
   "nbconvert_exporter": "python",
   "pygments_lexer": "ipython3",
   "version": "3.7.9"
  },
  "orig_nbformat": 4
 },
 "nbformat": 4,
 "nbformat_minor": 2
}
