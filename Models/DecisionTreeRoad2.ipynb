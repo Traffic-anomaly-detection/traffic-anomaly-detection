{
 "cells": [
  {
   "cell_type": "code",
   "execution_count": 1,
   "metadata": {},
   "outputs": [],
   "source": [
    "import pandas as pd\n",
    "import numpy as np\n",
    "import seaborn as sns\n",
    "import matplotlib.pyplot as plt\n",
    "from sklearn import preprocessing\n",
    "from sklearn.model_selection import train_test_split\n",
    "from sklearn.tree import DecisionTreeClassifier\n",
    "from sklearn.tree import export_graphviz\n",
    "from sklearn.tree import export_text\n",
    "from sklearn.metrics import classification_report,confusion_matrix\n",
    "from sklearn.model_selection import GridSearchCV\n",
    "from sklearn.preprocessing import StandardScaler\n",
    "from sklearn.metrics import accuracy_score,f1_score\n",
    "from sklearn.pipeline import make_pipeline\n"
   ]
  },
  {
   "cell_type": "code",
   "execution_count": 2,
   "metadata": {},
   "outputs": [
    {
     "data": {
      "text/html": [
       "<div>\n",
       "<style scoped>\n",
       "    .dataframe tbody tr th:only-of-type {\n",
       "        vertical-align: middle;\n",
       "    }\n",
       "\n",
       "    .dataframe tbody tr th {\n",
       "        vertical-align: top;\n",
       "    }\n",
       "\n",
       "    .dataframe thead th {\n",
       "        text-align: right;\n",
       "    }\n",
       "</style>\n",
       "<table border=\"1\" class=\"dataframe\">\n",
       "  <thead>\n",
       "    <tr style=\"text-align: right;\">\n",
       "      <th></th>\n",
       "      <th>datetime</th>\n",
       "      <th>road_number</th>\n",
       "      <th>km</th>\n",
       "      <th>direction</th>\n",
       "      <th>all_units</th>\n",
       "      <th>inflow_units</th>\n",
       "      <th>outflow_unit</th>\n",
       "      <th>samecell_units</th>\n",
       "      <th>avg_speed</th>\n",
       "      <th>max_speed</th>\n",
       "      <th>avg_traveltime</th>\n",
       "      <th>max_traveltime</th>\n",
       "      <th>inflow_units_N</th>\n",
       "      <th>outflow_units_N</th>\n",
       "      <th>avg_speed_N</th>\n",
       "      <th>cluster</th>\n",
       "      <th>label</th>\n",
       "    </tr>\n",
       "  </thead>\n",
       "  <tbody>\n",
       "    <tr>\n",
       "      <th>0</th>\n",
       "      <td>2020-02-01 00:00:34</td>\n",
       "      <td>2</td>\n",
       "      <td>1</td>\n",
       "      <td>in</td>\n",
       "      <td>1</td>\n",
       "      <td>1</td>\n",
       "      <td>2</td>\n",
       "      <td>0</td>\n",
       "      <td>54</td>\n",
       "      <td>54</td>\n",
       "      <td>61</td>\n",
       "      <td>61</td>\n",
       "      <td>0.04</td>\n",
       "      <td>0.076923</td>\n",
       "      <td>0.6750</td>\n",
       "      <td>1</td>\n",
       "      <td>0</td>\n",
       "    </tr>\n",
       "    <tr>\n",
       "      <th>1</th>\n",
       "      <td>2020-02-01 00:00:34</td>\n",
       "      <td>2</td>\n",
       "      <td>2</td>\n",
       "      <td>in</td>\n",
       "      <td>0</td>\n",
       "      <td>0</td>\n",
       "      <td>1</td>\n",
       "      <td>0</td>\n",
       "      <td>0</td>\n",
       "      <td>0</td>\n",
       "      <td>0</td>\n",
       "      <td>0</td>\n",
       "      <td>0.00</td>\n",
       "      <td>0.038462</td>\n",
       "      <td>0.0000</td>\n",
       "      <td>0</td>\n",
       "      <td>1</td>\n",
       "    </tr>\n",
       "    <tr>\n",
       "      <th>2</th>\n",
       "      <td>2020-02-01 00:00:34</td>\n",
       "      <td>2</td>\n",
       "      <td>3</td>\n",
       "      <td>in</td>\n",
       "      <td>4</td>\n",
       "      <td>2</td>\n",
       "      <td>0</td>\n",
       "      <td>2</td>\n",
       "      <td>64</td>\n",
       "      <td>87</td>\n",
       "      <td>60</td>\n",
       "      <td>60</td>\n",
       "      <td>0.08</td>\n",
       "      <td>0.000000</td>\n",
       "      <td>0.8000</td>\n",
       "      <td>2</td>\n",
       "      <td>0</td>\n",
       "    </tr>\n",
       "    <tr>\n",
       "      <th>3</th>\n",
       "      <td>2020-02-01 00:00:34</td>\n",
       "      <td>2</td>\n",
       "      <td>4</td>\n",
       "      <td>in</td>\n",
       "      <td>2</td>\n",
       "      <td>2</td>\n",
       "      <td>2</td>\n",
       "      <td>0</td>\n",
       "      <td>80</td>\n",
       "      <td>97</td>\n",
       "      <td>30</td>\n",
       "      <td>30</td>\n",
       "      <td>0.08</td>\n",
       "      <td>0.076923</td>\n",
       "      <td>1.0000</td>\n",
       "      <td>2</td>\n",
       "      <td>0</td>\n",
       "    </tr>\n",
       "    <tr>\n",
       "      <th>4</th>\n",
       "      <td>2020-02-01 00:00:34</td>\n",
       "      <td>2</td>\n",
       "      <td>5</td>\n",
       "      <td>in</td>\n",
       "      <td>2</td>\n",
       "      <td>2</td>\n",
       "      <td>0</td>\n",
       "      <td>0</td>\n",
       "      <td>50</td>\n",
       "      <td>52</td>\n",
       "      <td>75</td>\n",
       "      <td>90</td>\n",
       "      <td>0.08</td>\n",
       "      <td>0.000000</td>\n",
       "      <td>0.6250</td>\n",
       "      <td>1</td>\n",
       "      <td>0</td>\n",
       "    </tr>\n",
       "    <tr>\n",
       "      <th>...</th>\n",
       "      <td>...</td>\n",
       "      <td>...</td>\n",
       "      <td>...</td>\n",
       "      <td>...</td>\n",
       "      <td>...</td>\n",
       "      <td>...</td>\n",
       "      <td>...</td>\n",
       "      <td>...</td>\n",
       "      <td>...</td>\n",
       "      <td>...</td>\n",
       "      <td>...</td>\n",
       "      <td>...</td>\n",
       "      <td>...</td>\n",
       "      <td>...</td>\n",
       "      <td>...</td>\n",
       "      <td>...</td>\n",
       "      <td>...</td>\n",
       "    </tr>\n",
       "    <tr>\n",
       "      <th>16496944</th>\n",
       "      <td>2020-02-29 23:59:14</td>\n",
       "      <td>2</td>\n",
       "      <td>468</td>\n",
       "      <td>in</td>\n",
       "      <td>1</td>\n",
       "      <td>1</td>\n",
       "      <td>0</td>\n",
       "      <td>0</td>\n",
       "      <td>44</td>\n",
       "      <td>44</td>\n",
       "      <td>120</td>\n",
       "      <td>120</td>\n",
       "      <td>0.04</td>\n",
       "      <td>0.000000</td>\n",
       "      <td>0.5500</td>\n",
       "      <td>4</td>\n",
       "      <td>1</td>\n",
       "    </tr>\n",
       "    <tr>\n",
       "      <th>16496945</th>\n",
       "      <td>2020-02-29 23:59:14</td>\n",
       "      <td>2</td>\n",
       "      <td>488</td>\n",
       "      <td>in</td>\n",
       "      <td>0</td>\n",
       "      <td>0</td>\n",
       "      <td>1</td>\n",
       "      <td>0</td>\n",
       "      <td>0</td>\n",
       "      <td>0</td>\n",
       "      <td>0</td>\n",
       "      <td>0</td>\n",
       "      <td>0.00</td>\n",
       "      <td>0.038462</td>\n",
       "      <td>0.0000</td>\n",
       "      <td>0</td>\n",
       "      <td>1</td>\n",
       "    </tr>\n",
       "    <tr>\n",
       "      <th>16496946</th>\n",
       "      <td>2020-02-29 23:59:14</td>\n",
       "      <td>2</td>\n",
       "      <td>489</td>\n",
       "      <td>in</td>\n",
       "      <td>1</td>\n",
       "      <td>1</td>\n",
       "      <td>1</td>\n",
       "      <td>0</td>\n",
       "      <td>56</td>\n",
       "      <td>56</td>\n",
       "      <td>59</td>\n",
       "      <td>59</td>\n",
       "      <td>0.04</td>\n",
       "      <td>0.038462</td>\n",
       "      <td>0.7000</td>\n",
       "      <td>1</td>\n",
       "      <td>0</td>\n",
       "    </tr>\n",
       "    <tr>\n",
       "      <th>16496947</th>\n",
       "      <td>2020-02-29 23:59:14</td>\n",
       "      <td>2</td>\n",
       "      <td>490</td>\n",
       "      <td>in</td>\n",
       "      <td>2</td>\n",
       "      <td>2</td>\n",
       "      <td>1</td>\n",
       "      <td>0</td>\n",
       "      <td>64</td>\n",
       "      <td>78</td>\n",
       "      <td>54</td>\n",
       "      <td>60</td>\n",
       "      <td>0.08</td>\n",
       "      <td>0.038462</td>\n",
       "      <td>0.8000</td>\n",
       "      <td>2</td>\n",
       "      <td>0</td>\n",
       "    </tr>\n",
       "    <tr>\n",
       "      <th>16496948</th>\n",
       "      <td>2020-02-29 23:59:14</td>\n",
       "      <td>2</td>\n",
       "      <td>497</td>\n",
       "      <td>in</td>\n",
       "      <td>1</td>\n",
       "      <td>0</td>\n",
       "      <td>0</td>\n",
       "      <td>1</td>\n",
       "      <td>49</td>\n",
       "      <td>49</td>\n",
       "      <td>0</td>\n",
       "      <td>0</td>\n",
       "      <td>0.00</td>\n",
       "      <td>0.000000</td>\n",
       "      <td>0.6125</td>\n",
       "      <td>1</td>\n",
       "      <td>0</td>\n",
       "    </tr>\n",
       "  </tbody>\n",
       "</table>\n",
       "<p>16496949 rows × 17 columns</p>\n",
       "</div>"
      ],
      "text/plain": [
       "                    datetime  road_number   km direction  all_units  \\\n",
       "0        2020-02-01 00:00:34            2    1        in          1   \n",
       "1        2020-02-01 00:00:34            2    2        in          0   \n",
       "2        2020-02-01 00:00:34            2    3        in          4   \n",
       "3        2020-02-01 00:00:34            2    4        in          2   \n",
       "4        2020-02-01 00:00:34            2    5        in          2   \n",
       "...                      ...          ...  ...       ...        ...   \n",
       "16496944 2020-02-29 23:59:14            2  468        in          1   \n",
       "16496945 2020-02-29 23:59:14            2  488        in          0   \n",
       "16496946 2020-02-29 23:59:14            2  489        in          1   \n",
       "16496947 2020-02-29 23:59:14            2  490        in          2   \n",
       "16496948 2020-02-29 23:59:14            2  497        in          1   \n",
       "\n",
       "          inflow_units  outflow_unit  samecell_units  avg_speed  max_speed  \\\n",
       "0                    1             2               0         54         54   \n",
       "1                    0             1               0          0          0   \n",
       "2                    2             0               2         64         87   \n",
       "3                    2             2               0         80         97   \n",
       "4                    2             0               0         50         52   \n",
       "...                ...           ...             ...        ...        ...   \n",
       "16496944             1             0               0         44         44   \n",
       "16496945             0             1               0          0          0   \n",
       "16496946             1             1               0         56         56   \n",
       "16496947             2             1               0         64         78   \n",
       "16496948             0             0               1         49         49   \n",
       "\n",
       "          avg_traveltime  max_traveltime  inflow_units_N  outflow_units_N  \\\n",
       "0                     61              61            0.04         0.076923   \n",
       "1                      0               0            0.00         0.038462   \n",
       "2                     60              60            0.08         0.000000   \n",
       "3                     30              30            0.08         0.076923   \n",
       "4                     75              90            0.08         0.000000   \n",
       "...                  ...             ...             ...              ...   \n",
       "16496944             120             120            0.04         0.000000   \n",
       "16496945               0               0            0.00         0.038462   \n",
       "16496946              59              59            0.04         0.038462   \n",
       "16496947              54              60            0.08         0.038462   \n",
       "16496948               0               0            0.00         0.000000   \n",
       "\n",
       "          avg_speed_N  cluster  label  \n",
       "0              0.6750        1      0  \n",
       "1              0.0000        0      1  \n",
       "2              0.8000        2      0  \n",
       "3              1.0000        2      0  \n",
       "4              0.6250        1      0  \n",
       "...               ...      ...    ...  \n",
       "16496944       0.5500        4      1  \n",
       "16496945       0.0000        0      1  \n",
       "16496946       0.7000        1      0  \n",
       "16496947       0.8000        2      0  \n",
       "16496948       0.6125        1      0  \n",
       "\n",
       "[16496949 rows x 17 columns]"
      ]
     },
     "execution_count": 2,
     "metadata": {},
     "output_type": "execute_result"
    }
   ],
   "source": [
    "road = 2\n",
    "direction = \"in\"\n",
    "df = pd.read_csv(\n",
    "    f\"../dataset/cluster/2020-02-road{road}-{direction}-5cluster.csv\", parse_dates=[\"datetime\"])\n",
    "df['label'] = df['cluster'].apply(lambda row: 1 if row == 0 or row == 4 else 0)\n",
    "df\n"
   ]
  },
  {
   "cell_type": "code",
   "execution_count": 3,
   "metadata": {},
   "outputs": [
    {
     "data": {
      "text/plain": [
       "datetime           2020-02-29 23:59:14\n",
       "road_number                          2\n",
       "km                                 508\n",
       "direction                           in\n",
       "all_units                           52\n",
       "inflow_units                        19\n",
       "outflow_unit                        21\n",
       "samecell_units                      52\n",
       "avg_speed                           46\n",
       "max_speed                          127\n",
       "avg_traveltime                     982\n",
       "max_traveltime                     994\n",
       "inflow_units_N                    0.76\n",
       "outflow_units_N               0.807692\n",
       "avg_speed_N                      0.575\n",
       "cluster                              4\n",
       "label                                1\n",
       "dtype: object"
      ]
     },
     "execution_count": 3,
     "metadata": {},
     "output_type": "execute_result"
    }
   ],
   "source": [
    "df[df['label']==1].max(axis=0)"
   ]
  },
  {
   "cell_type": "code",
   "execution_count": 4,
   "metadata": {},
   "outputs": [],
   "source": [
    "df_corr = df.filter(['all_units','inflow_units','outflow_unit','samecell_units','avg_speed','max_speed','avg_traveltime','max_traveltime','cluster','label'],axis=1)\n",
    "corr = df_corr.corr()"
   ]
  },
  {
   "cell_type": "code",
   "execution_count": 5,
   "metadata": {},
   "outputs": [
    {
     "data": {
      "text/plain": [
       "<AxesSubplot:>"
      ]
     },
     "execution_count": 5,
     "metadata": {},
     "output_type": "execute_result"
    },
    {
     "data": {
      "image/png": "[encoded data removed]",
      "text/plain": [
       "<Figure size 432x288 with 2 Axes>"
      ]
     },
     "metadata": {
      "needs_background": "light"
     },
     "output_type": "display_data"
    }
   ],
   "source": [
    "sns.heatmap(corr, vmin=0, vmax=1, annot=True)\n"
   ]
  },
  {
   "cell_type": "code",
   "execution_count": 6,
   "metadata": {},
   "outputs": [
    {
     "data": {
      "text/plain": [
       "['all_units',\n",
       " 'inflow_units',\n",
       " 'avg_speed',\n",
       " 'max_speed',\n",
       " 'avg_traveltime',\n",
       " 'max_traveltime']"
      ]
     },
     "execution_count": 6,
     "metadata": {},
     "output_type": "execute_result"
    }
   ],
   "source": [
    "num_cols = ['all_units', 'inflow_units',\n",
    "            'avg_speed', 'max_speed',\n",
    "            'avg_traveltime',\"max_traveltime\"]\n",
    "num_cols"
   ]
  },
  {
   "cell_type": "code",
   "execution_count": 7,
   "metadata": {},
   "outputs": [],
   "source": [
    "X=df[num_cols]\n",
    "y=df['cluster']"
   ]
  },
  {
   "cell_type": "code",
   "execution_count": 8,
   "metadata": {},
   "outputs": [],
   "source": [
    "x_train, x_test, y_train, y_test = train_test_split(X, y, test_size=0.33, random_state=42)"
   ]
  },
  {
   "cell_type": "code",
   "execution_count": 9,
   "metadata": {},
   "outputs": [
    {
     "data": {
      "text/plain": [
       "DecisionTreeClassifier()"
      ]
     },
     "execution_count": 9,
     "metadata": {},
     "output_type": "execute_result"
    }
   ],
   "source": [
    "tree = DecisionTreeClassifier()\n",
    "tree.fit(x_train, y_train)"
   ]
  },
  {
   "cell_type": "code",
   "execution_count": 10,
   "metadata": {},
   "outputs": [],
   "source": [
    "y_pred = tree.predict(x_test)"
   ]
  },
  {
   "cell_type": "code",
   "execution_count": 11,
   "metadata": {},
   "outputs": [
    {
     "name": "stdout",
     "output_type": "stream",
     "text": [
      "              precision    recall  f1-score   support\n",
      "\n",
      "           0       1.00      1.00      1.00   1141630\n",
      "           1       0.88      0.94      0.91   1732913\n",
      "           2       0.92      0.96      0.94   1258683\n",
      "           3       0.70      0.54      0.61    695808\n",
      "           4       0.98      0.97      0.98    614960\n",
      "\n",
      "    accuracy                           0.91   5443994\n",
      "   macro avg       0.90      0.88      0.89   5443994\n",
      "weighted avg       0.90      0.91      0.90   5443994\n",
      "\n"
     ]
    }
   ],
   "source": [
    "print(classification_report(y_test,y_pred))"
   ]
  },
  {
   "cell_type": "code",
   "execution_count": 12,
   "metadata": {},
   "outputs": [
    {
     "name": "stdout",
     "output_type": "stream",
     "text": [
      "0.909239980793513\n"
     ]
    }
   ],
   "source": [
    "print(accuracy_score(y_test, y_pred))"
   ]
  },
  {
   "cell_type": "code",
   "execution_count": 13,
   "metadata": {},
   "outputs": [],
   "source": [
    "conf_matrix = confusion_matrix(y_test, y_pred)"
   ]
  },
  {
   "cell_type": "code",
   "execution_count": 14,
   "metadata": {},
   "outputs": [
    {
     "data": {
      "image/png": "[encoded data removed]",
      "text/plain": [
       "<Figure size 432x432 with 1 Axes>"
      ]
     },
     "metadata": {
      "needs_background": "light"
     },
     "output_type": "display_data"
    }
   ],
   "source": [
    "from mlxtend.plotting import plot_confusion_matrix\n",
    "fig, ax = plot_confusion_matrix(conf_mat=conf_matrix, figsize=(6, 6), cmap=plt.cm.Greens)\n",
    "plt.xlabel('Predictions', fontsize=18)\n",
    "plt.ylabel('Actuals', fontsize=18)\n",
    "plt.title('Confusion Matrix', fontsize=18)\n",
    "plt.show()"
   ]
  },
  {
   "cell_type": "code",
   "execution_count": 15,
   "metadata": {},
   "outputs": [],
   "source": [
    "# import joblib\n",
    "# joblib.dump(tree, f\"DecisionTreeModelRoad{road}{direction}.joblib\")\n"
   ]
  }
 ],
 "metadata": {
  "interpreter": {
   "hash": "a57c8d2945e386d0fc4a7ee8b43851c6d533e062934f1b271df6e812f3c42cd1"
  },
  "kernelspec": {
   "display_name": "Python 3.7.9 ('venv': venv)",
   "language": "python",
   "name": "python3"
  },
  "language_info": {
   "codemirror_mode": {
    "name": "ipython",
    "version": 3
   },
   "file_extension": ".py",
   "mimetype": "text/x-python",
   "name": "python",
   "nbconvert_exporter": "python",
   "pygments_lexer": "ipython3",
   "version": "3.7.9"
  },
  "orig_nbformat": 4
 },
 "nbformat": 4,
 "nbformat_minor": 2
}
