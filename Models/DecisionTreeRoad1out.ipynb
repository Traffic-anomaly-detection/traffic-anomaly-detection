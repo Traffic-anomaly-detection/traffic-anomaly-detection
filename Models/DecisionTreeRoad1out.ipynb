{
 "cells": [
  {
   "cell_type": "code",
   "execution_count": 1,
   "metadata": {},
   "outputs": [],
   "source": [
    "import pandas as pd\n",
    "import numpy as np\n",
    "import seaborn as sns\n",
    "import matplotlib.pyplot as plt\n",
    "from sklearn import preprocessing\n",
    "from sklearn.model_selection import train_test_split\n",
    "from sklearn.tree import DecisionTreeClassifier\n",
    "from sklearn.tree import export_graphviz\n",
    "from sklearn.tree import export_text\n",
    "from sklearn.metrics import classification_report,confusion_matrix\n",
    "from sklearn.model_selection import GridSearchCV\n",
    "from sklearn.preprocessing import StandardScaler\n",
    "from sklearn.metrics import accuracy_score,f1_score\n",
    "from sklearn.pipeline import make_pipeline\n"
   ]
  },
  {
   "cell_type": "code",
   "execution_count": 2,
   "metadata": {},
   "outputs": [
    {
     "data": {
      "text/html": [
       "<div>\n",
       "<style scoped>\n",
       "    .dataframe tbody tr th:only-of-type {\n",
       "        vertical-align: middle;\n",
       "    }\n",
       "\n",
       "    .dataframe tbody tr th {\n",
       "        vertical-align: top;\n",
       "    }\n",
       "\n",
       "    .dataframe thead th {\n",
       "        text-align: right;\n",
       "    }\n",
       "</style>\n",
       "<table border=\"1\" class=\"dataframe\">\n",
       "  <thead>\n",
       "    <tr style=\"text-align: right;\">\n",
       "      <th></th>\n",
       "      <th>datetime</th>\n",
       "      <th>road_number</th>\n",
       "      <th>km</th>\n",
       "      <th>direction</th>\n",
       "      <th>all_units</th>\n",
       "      <th>inflow_units</th>\n",
       "      <th>outflow_unit</th>\n",
       "      <th>samecell_units</th>\n",
       "      <th>avg_speed</th>\n",
       "      <th>max_speed</th>\n",
       "      <th>avg_traveltime</th>\n",
       "      <th>max_traveltime</th>\n",
       "      <th>inflow_units_N</th>\n",
       "      <th>outflow_units_N</th>\n",
       "      <th>avg_speed_N</th>\n",
       "      <th>cluster</th>\n",
       "      <th>label</th>\n",
       "    </tr>\n",
       "  </thead>\n",
       "  <tbody>\n",
       "    <tr>\n",
       "      <th>0</th>\n",
       "      <td>2020-02-01 00:00:34</td>\n",
       "      <td>1</td>\n",
       "      <td>25</td>\n",
       "      <td>out</td>\n",
       "      <td>1</td>\n",
       "      <td>0</td>\n",
       "      <td>0</td>\n",
       "      <td>1</td>\n",
       "      <td>43</td>\n",
       "      <td>43</td>\n",
       "      <td>0</td>\n",
       "      <td>0</td>\n",
       "      <td>0.000000</td>\n",
       "      <td>0.000000</td>\n",
       "      <td>0.5375</td>\n",
       "      <td>2</td>\n",
       "      <td>1</td>\n",
       "    </tr>\n",
       "    <tr>\n",
       "      <th>1</th>\n",
       "      <td>2020-02-01 00:00:34</td>\n",
       "      <td>1</td>\n",
       "      <td>26</td>\n",
       "      <td>out</td>\n",
       "      <td>1</td>\n",
       "      <td>0</td>\n",
       "      <td>0</td>\n",
       "      <td>1</td>\n",
       "      <td>71</td>\n",
       "      <td>71</td>\n",
       "      <td>0</td>\n",
       "      <td>0</td>\n",
       "      <td>0.000000</td>\n",
       "      <td>0.000000</td>\n",
       "      <td>0.8875</td>\n",
       "      <td>4</td>\n",
       "      <td>0</td>\n",
       "    </tr>\n",
       "    <tr>\n",
       "      <th>2</th>\n",
       "      <td>2020-02-01 00:00:34</td>\n",
       "      <td>1</td>\n",
       "      <td>27</td>\n",
       "      <td>out</td>\n",
       "      <td>1</td>\n",
       "      <td>0</td>\n",
       "      <td>0</td>\n",
       "      <td>1</td>\n",
       "      <td>0</td>\n",
       "      <td>0</td>\n",
       "      <td>0</td>\n",
       "      <td>0</td>\n",
       "      <td>0.000000</td>\n",
       "      <td>0.000000</td>\n",
       "      <td>0.0000</td>\n",
       "      <td>0</td>\n",
       "      <td>1</td>\n",
       "    </tr>\n",
       "    <tr>\n",
       "      <th>3</th>\n",
       "      <td>2020-02-01 00:00:34</td>\n",
       "      <td>1</td>\n",
       "      <td>28</td>\n",
       "      <td>out</td>\n",
       "      <td>2</td>\n",
       "      <td>1</td>\n",
       "      <td>2</td>\n",
       "      <td>1</td>\n",
       "      <td>41</td>\n",
       "      <td>48</td>\n",
       "      <td>0</td>\n",
       "      <td>0</td>\n",
       "      <td>0.021739</td>\n",
       "      <td>0.045455</td>\n",
       "      <td>0.5125</td>\n",
       "      <td>2</td>\n",
       "      <td>1</td>\n",
       "    </tr>\n",
       "    <tr>\n",
       "      <th>4</th>\n",
       "      <td>2020-02-01 00:00:34</td>\n",
       "      <td>1</td>\n",
       "      <td>29</td>\n",
       "      <td>out</td>\n",
       "      <td>3</td>\n",
       "      <td>3</td>\n",
       "      <td>4</td>\n",
       "      <td>0</td>\n",
       "      <td>75</td>\n",
       "      <td>108</td>\n",
       "      <td>0</td>\n",
       "      <td>0</td>\n",
       "      <td>0.065217</td>\n",
       "      <td>0.090909</td>\n",
       "      <td>0.9375</td>\n",
       "      <td>4</td>\n",
       "      <td>0</td>\n",
       "    </tr>\n",
       "    <tr>\n",
       "      <th>...</th>\n",
       "      <td>...</td>\n",
       "      <td>...</td>\n",
       "      <td>...</td>\n",
       "      <td>...</td>\n",
       "      <td>...</td>\n",
       "      <td>...</td>\n",
       "      <td>...</td>\n",
       "      <td>...</td>\n",
       "      <td>...</td>\n",
       "      <td>...</td>\n",
       "      <td>...</td>\n",
       "      <td>...</td>\n",
       "      <td>...</td>\n",
       "      <td>...</td>\n",
       "      <td>...</td>\n",
       "      <td>...</td>\n",
       "      <td>...</td>\n",
       "    </tr>\n",
       "    <tr>\n",
       "      <th>22668874</th>\n",
       "      <td>2020-02-29 23:59:14</td>\n",
       "      <td>1</td>\n",
       "      <td>925</td>\n",
       "      <td>out</td>\n",
       "      <td>0</td>\n",
       "      <td>0</td>\n",
       "      <td>1</td>\n",
       "      <td>0</td>\n",
       "      <td>0</td>\n",
       "      <td>0</td>\n",
       "      <td>0</td>\n",
       "      <td>0</td>\n",
       "      <td>0.000000</td>\n",
       "      <td>0.022727</td>\n",
       "      <td>0.0000</td>\n",
       "      <td>0</td>\n",
       "      <td>1</td>\n",
       "    </tr>\n",
       "    <tr>\n",
       "      <th>22668875</th>\n",
       "      <td>2020-02-29 23:59:14</td>\n",
       "      <td>1</td>\n",
       "      <td>926</td>\n",
       "      <td>out</td>\n",
       "      <td>1</td>\n",
       "      <td>1</td>\n",
       "      <td>0</td>\n",
       "      <td>0</td>\n",
       "      <td>51</td>\n",
       "      <td>51</td>\n",
       "      <td>60</td>\n",
       "      <td>60</td>\n",
       "      <td>0.021739</td>\n",
       "      <td>0.000000</td>\n",
       "      <td>0.6375</td>\n",
       "      <td>1</td>\n",
       "      <td>0</td>\n",
       "    </tr>\n",
       "    <tr>\n",
       "      <th>22668876</th>\n",
       "      <td>2020-02-29 23:59:14</td>\n",
       "      <td>1</td>\n",
       "      <td>939</td>\n",
       "      <td>out</td>\n",
       "      <td>1</td>\n",
       "      <td>0</td>\n",
       "      <td>0</td>\n",
       "      <td>1</td>\n",
       "      <td>57</td>\n",
       "      <td>57</td>\n",
       "      <td>0</td>\n",
       "      <td>0</td>\n",
       "      <td>0.000000</td>\n",
       "      <td>0.000000</td>\n",
       "      <td>0.7125</td>\n",
       "      <td>1</td>\n",
       "      <td>0</td>\n",
       "    </tr>\n",
       "    <tr>\n",
       "      <th>22668877</th>\n",
       "      <td>2020-02-29 23:59:14</td>\n",
       "      <td>1</td>\n",
       "      <td>953</td>\n",
       "      <td>out</td>\n",
       "      <td>0</td>\n",
       "      <td>0</td>\n",
       "      <td>1</td>\n",
       "      <td>0</td>\n",
       "      <td>0</td>\n",
       "      <td>0</td>\n",
       "      <td>0</td>\n",
       "      <td>0</td>\n",
       "      <td>0.000000</td>\n",
       "      <td>0.022727</td>\n",
       "      <td>0.0000</td>\n",
       "      <td>0</td>\n",
       "      <td>1</td>\n",
       "    </tr>\n",
       "    <tr>\n",
       "      <th>22668878</th>\n",
       "      <td>2020-02-29 23:59:14</td>\n",
       "      <td>1</td>\n",
       "      <td>954</td>\n",
       "      <td>out</td>\n",
       "      <td>1</td>\n",
       "      <td>1</td>\n",
       "      <td>0</td>\n",
       "      <td>0</td>\n",
       "      <td>61</td>\n",
       "      <td>61</td>\n",
       "      <td>60</td>\n",
       "      <td>60</td>\n",
       "      <td>0.021739</td>\n",
       "      <td>0.000000</td>\n",
       "      <td>0.7625</td>\n",
       "      <td>1</td>\n",
       "      <td>0</td>\n",
       "    </tr>\n",
       "  </tbody>\n",
       "</table>\n",
       "<p>22668879 rows × 17 columns</p>\n",
       "</div>"
      ],
      "text/plain": [
       "                    datetime  road_number   km direction  all_units  \\\n",
       "0        2020-02-01 00:00:34            1   25       out          1   \n",
       "1        2020-02-01 00:00:34            1   26       out          1   \n",
       "2        2020-02-01 00:00:34            1   27       out          1   \n",
       "3        2020-02-01 00:00:34            1   28       out          2   \n",
       "4        2020-02-01 00:00:34            1   29       out          3   \n",
       "...                      ...          ...  ...       ...        ...   \n",
       "22668874 2020-02-29 23:59:14            1  925       out          0   \n",
       "22668875 2020-02-29 23:59:14            1  926       out          1   \n",
       "22668876 2020-02-29 23:59:14            1  939       out          1   \n",
       "22668877 2020-02-29 23:59:14            1  953       out          0   \n",
       "22668878 2020-02-29 23:59:14            1  954       out          1   \n",
       "\n",
       "          inflow_units  outflow_unit  samecell_units  avg_speed  max_speed  \\\n",
       "0                    0             0               1         43         43   \n",
       "1                    0             0               1         71         71   \n",
       "2                    0             0               1          0          0   \n",
       "3                    1             2               1         41         48   \n",
       "4                    3             4               0         75        108   \n",
       "...                ...           ...             ...        ...        ...   \n",
       "22668874             0             1               0          0          0   \n",
       "22668875             1             0               0         51         51   \n",
       "22668876             0             0               1         57         57   \n",
       "22668877             0             1               0          0          0   \n",
       "22668878             1             0               0         61         61   \n",
       "\n",
       "          avg_traveltime  max_traveltime  inflow_units_N  outflow_units_N  \\\n",
       "0                      0               0        0.000000         0.000000   \n",
       "1                      0               0        0.000000         0.000000   \n",
       "2                      0               0        0.000000         0.000000   \n",
       "3                      0               0        0.021739         0.045455   \n",
       "4                      0               0        0.065217         0.090909   \n",
       "...                  ...             ...             ...              ...   \n",
       "22668874               0               0        0.000000         0.022727   \n",
       "22668875              60              60        0.021739         0.000000   \n",
       "22668876               0               0        0.000000         0.000000   \n",
       "22668877               0               0        0.000000         0.022727   \n",
       "22668878              60              60        0.021739         0.000000   \n",
       "\n",
       "          avg_speed_N  cluster  label  \n",
       "0              0.5375        2      1  \n",
       "1              0.8875        4      0  \n",
       "2              0.0000        0      1  \n",
       "3              0.5125        2      1  \n",
       "4              0.9375        4      0  \n",
       "...               ...      ...    ...  \n",
       "22668874       0.0000        0      1  \n",
       "22668875       0.6375        1      0  \n",
       "22668876       0.7125        1      0  \n",
       "22668877       0.0000        0      1  \n",
       "22668878       0.7625        1      0  \n",
       "\n",
       "[22668879 rows x 17 columns]"
      ]
     },
     "execution_count": 2,
     "metadata": {},
     "output_type": "execute_result"
    }
   ],
   "source": [
    "road = 1\n",
    "direction = \"out\"\n",
    "df = pd.read_csv(\n",
    "    f\"../dataset/cluster/2020-02-road{road}-{direction}-5cluster.csv\", parse_dates=[\"datetime\"])\n",
    "df['label'] = df['cluster'].apply(lambda row: 1 if row == 0 or row == 2 else 0)\n",
    "df\n"
   ]
  },
  {
   "cell_type": "code",
   "execution_count": 18,
   "metadata": {},
   "outputs": [
    {
     "data": {
      "text/plain": [
       "datetime           2020-02-29 23:59:14\n",
       "road_number                          1\n",
       "km                                 993\n",
       "direction                          out\n",
       "all_units                          111\n",
       "inflow_units                        27\n",
       "outflow_unit                        29\n",
       "samecell_units                      93\n",
       "avg_speed                           44\n",
       "max_speed                          180\n",
       "avg_traveltime                     996\n",
       "max_traveltime                     998\n",
       "inflow_units_N                0.586957\n",
       "outflow_units_N               0.659091\n",
       "avg_speed_N                       0.55\n",
       "cluster                              2\n",
       "label                                1\n",
       "dtype: object"
      ]
     },
     "execution_count": 18,
     "metadata": {},
     "output_type": "execute_result"
    }
   ],
   "source": [
    "df[df['label']==1].max(axis=0)"
   ]
  },
  {
   "cell_type": "code",
   "execution_count": 4,
   "metadata": {},
   "outputs": [],
   "source": [
    "df_corr = df.filter(['all_units','inflow_units','outflow_unit','samecell_units','avg_speed','max_speed','avg_traveltime','max_traveltime','cluster','label'],axis=1)\n",
    "corr = df_corr.corr()"
   ]
  },
  {
   "cell_type": "code",
   "execution_count": 5,
   "metadata": {},
   "outputs": [
    {
     "data": {
      "text/plain": [
       "<AxesSubplot:>"
      ]
     },
     "execution_count": 5,
     "metadata": {},
     "output_type": "execute_result"
    },
    {
     "data": {
      "image/png": "[encoded data removed]",
      "text/plain": [
       "<Figure size 432x288 with 2 Axes>"
      ]
     },
     "metadata": {
      "needs_background": "light"
     },
     "output_type": "display_data"
    }
   ],
   "source": [
    "sns.heatmap(corr, vmin=0, vmax=1, annot=True)\n"
   ]
  },
  {
   "cell_type": "code",
   "execution_count": 6,
   "metadata": {},
   "outputs": [
    {
     "data": {
      "text/plain": [
       "['all_units',\n",
       " 'inflow_units',\n",
       " 'avg_speed',\n",
       " 'max_speed',\n",
       " 'avg_traveltime',\n",
       " 'max_traveltime']"
      ]
     },
     "execution_count": 6,
     "metadata": {},
     "output_type": "execute_result"
    }
   ],
   "source": [
    "num_cols = ['all_units', 'inflow_units',\n",
    "            'avg_speed', 'max_speed',\n",
    "            'avg_traveltime',\"max_traveltime\"]\n",
    "num_cols"
   ]
  },
  {
   "cell_type": "code",
   "execution_count": 7,
   "metadata": {},
   "outputs": [],
   "source": [
    "X=df[num_cols]\n",
    "y=df['cluster']"
   ]
  },
  {
   "cell_type": "code",
   "execution_count": 8,
   "metadata": {},
   "outputs": [],
   "source": [
    "x_train, x_test, y_train, y_test = train_test_split(X, y, test_size=0.33, random_state=42)"
   ]
  },
  {
   "cell_type": "code",
   "execution_count": 9,
   "metadata": {},
   "outputs": [
    {
     "data": {
      "text/plain": [
       "DecisionTreeClassifier()"
      ]
     },
     "execution_count": 9,
     "metadata": {},
     "output_type": "execute_result"
    }
   ],
   "source": [
    "tree = DecisionTreeClassifier()\n",
    "tree.fit(x_train, y_train)"
   ]
  },
  {
   "cell_type": "code",
   "execution_count": 10,
   "metadata": {},
   "outputs": [],
   "source": [
    "y_pred = tree.predict(x_test)"
   ]
  },
  {
   "cell_type": "code",
   "execution_count": 11,
   "metadata": {},
   "outputs": [
    {
     "name": "stdout",
     "output_type": "stream",
     "text": [
      "              precision    recall  f1-score   support\n",
      "\n",
      "           0       1.00      1.00      1.00   2271036\n",
      "           1       0.96      0.97      0.97   2103022\n",
      "           2       0.98      0.98      0.98    748948\n",
      "           3       0.75      0.71      0.73    441175\n",
      "           4       0.99      0.99      0.99   1916550\n",
      "\n",
      "    accuracy                           0.97   7480731\n",
      "   macro avg       0.94      0.93      0.93   7480731\n",
      "weighted avg       0.97      0.97      0.97   7480731\n",
      "\n"
     ]
    }
   ],
   "source": [
    "print(classification_report(y_test,y_pred))"
   ]
  },
  {
   "cell_type": "code",
   "execution_count": 12,
   "metadata": {},
   "outputs": [
    {
     "name": "stdout",
     "output_type": "stream",
     "text": [
      "0.9691305568934373\n"
     ]
    }
   ],
   "source": [
    "print(accuracy_score(y_test, y_pred))"
   ]
  },
  {
   "cell_type": "code",
   "execution_count": 13,
   "metadata": {},
   "outputs": [],
   "source": [
    "conf_matrix = confusion_matrix(y_test, y_pred)"
   ]
  },
  {
   "cell_type": "code",
   "execution_count": 14,
   "metadata": {},
   "outputs": [
    {
     "data": {
      "image/png": "[encoded data removed]",
      "text/plain": [
       "<Figure size 432x432 with 1 Axes>"
      ]
     },
     "metadata": {
      "needs_background": "light"
     },
     "output_type": "display_data"
    }
   ],
   "source": [
    "from mlxtend.plotting import plot_confusion_matrix\n",
    "fig, ax = plot_confusion_matrix(conf_mat=conf_matrix, figsize=(6, 6), cmap=plt.cm.Greens)\n",
    "plt.xlabel('Predictions', fontsize=18)\n",
    "plt.ylabel('Actuals', fontsize=18)\n",
    "plt.title('Confusion Matrix', fontsize=18)\n",
    "plt.show()"
   ]
  },
  {
   "cell_type": "code",
   "execution_count": 15,
   "metadata": {},
   "outputs": [],
   "source": [
    "# import joblib\n",
    "# joblib.dump(tree, f\"DecisionTreeModelRoad{road}{direction}.joblib\")\n"
   ]
  }
 ],
 "metadata": {
  "interpreter": {
   "hash": "a57c8d2945e386d0fc4a7ee8b43851c6d533e062934f1b271df6e812f3c42cd1"
  },
  "kernelspec": {
   "display_name": "Python 3.7.9 ('venv': venv)",
   "language": "python",
   "name": "python3"
  },
  "language_info": {
   "codemirror_mode": {
    "name": "ipython",
    "version": 3
   },
   "file_extension": ".py",
   "mimetype": "text/x-python",
   "name": "python",
   "nbconvert_exporter": "python",
   "pygments_lexer": "ipython3",
   "version": "3.7.9"
  },
  "orig_nbformat": 4
 },
 "nbformat": 4,
 "nbformat_minor": 2
}
